{
 "cells": [
  {
   "cell_type": "markdown",
   "metadata": {
    "id": "TVZwSHu-GR2A"
   },
   "source": [
    "**Import libraries**"
   ]
  },
  {
   "cell_type": "code",
   "execution_count": 2,
   "metadata": {
    "id": "TCiAMVoxGCa9"
   },
   "outputs": [],
   "source": [
    "#from google.colab import drive\n",
    "#from google.colab import files\n",
    "import pandas as pd\n",
    "import matplotlib.pyplot as plt\n",
    "import seaborn as sns\n",
    "import pandas as pd\n",
    "import numpy as np\n",
    "from scipy.stats import norm\n",
    "from scipy import stats\n",
    "import warnings\n",
    "warnings.filterwarnings('ignore')\n",
    "%matplotlib inline"
   ]
  },
  {
   "cell_type": "markdown",
   "metadata": {
    "id": "kEwJdmIKGZRF"
   },
   "source": [
    "**Import data**"
   ]
  },
  {
   "cell_type": "code",
   "execution_count": null,
   "metadata": {
    "colab": {
     "base_uri": "https://localhost:8080/"
    },
    "executionInfo": {
     "elapsed": 17007,
     "status": "ok",
     "timestamp": 1610550500274,
     "user": {
      "displayName": "Kwanyoung Lee",
      "photoUrl": "",
      "userId": "17965056898907400088"
     },
     "user_tz": -480
    },
    "id": "0CnhO_q4Gd8N",
    "outputId": "4d206680-f1c2-4e5e-99bd-f1547df0c3d0"
   },
   "outputs": [],
   "source": [
    "# For google drive\n",
    "#drive.mount('/content/drive')\n",
    "#data_dir = \"/content/drive/My Drive/FYP/centaline/\""
   ]
  },
  {
   "cell_type": "code",
   "execution_count": 3,
   "metadata": {
    "id": "hOXusfCxGfQ7"
   },
   "outputs": [],
   "source": [
    "hk = [\"Kennedy_town_sai_ying_pun\", \"South_horizon\", \"Bel_air_sasson\", \"Aberdeen_ap_lei_chau\", \"Mid_level_west\", \"Peak_south\",\n",
    "             \"Wanchai_causeway_bay\", \"Mid_level_central\", \"Happy_valley_mid_level_east\", \"Mid_level_north_point\", \"North_point_fortress_hill\", \n",
    "             \"Quarry_bay_kornhill\", \"Taikoo_shing\", \"Shau_kei_wan_chai_wan\", \"Heng_fa_chuen\", \"Sheung_wan_central_admiralty\"]\n",
    "\n",
    "kowloon = [\"Olympic_station\", \"Kowloon_station\", \"Mongkok_yaumatei\", \"Tsimshatsui_jordan\", \"Ho_man_tin_kings_park\", \"To_kwa_wan\", \n",
    "                  \"Whampoa_laguna_verde\", \"Tseung_kwan_o\", \"Meifoo_wonderland\", \"Cheung_sha_wan_west\", \"Cheung_sha_wan_sham_shui_po\", \n",
    "                  \"Yau_yat_tsuen_shek_kip_mei\", \"Kowloon_tong_beacon_hill\", \"Lam_tin_yau_tong\", \"Kowloon_bay_ngau_chi_wan\", \"Kwun_tong\", \n",
    "                  \"Diamond_hill_wong_tai_sin\", \"To_kwa_wan_east\", \"Hung_hum\", \"Kai_tak\"]\n",
    "\n",
    "new_east = [\"Sai_kung\", \"Tai_wai\", \"Shatin\", \"Fotan_shatin_mid_level_kau_to_shan\", \"Ma_on_shan\", \"Tai_po_mid_level_hong_lok_yuen\", \n",
    "                   \"Tai_po_market_tai_wo\", \"Sheung_shui_fanling_kwu_tung\"]\n",
    "\n",
    "new_west = [\"Discovery_bay\", \"Fairview_park_palm_spring_the_vineyard\", \"Yuen_long\", \"Tuen_mun\", \"Tin_shui_wai\", \"Tsuen_wan\", \"Kwai_chung\", \n",
    "                   \"Tsing_yi\", \"Ma_wan_park_island\",\"Tung_chung_islands\", \"Sham_tseng_castle_peak_road\", \"Belvedere_garden_castle_peak_road\"]"
   ]
  },
  {
   "cell_type": "code",
   "execution_count": 6,
   "metadata": {
    "colab": {
     "base_uri": "https://localhost:8080/"
    },
    "executionInfo": {
     "elapsed": 3999,
     "status": "ok",
     "timestamp": 1610551637911,
     "user": {
      "displayName": "Kwanyoung Lee",
      "photoUrl": "",
      "userId": "17965056898907400088"
     },
     "user_tz": -480
    },
    "id": "ouwJreaqGhE3",
    "outputId": "774087a5-1119-42ab-b7c4-078f96d5dd76"
   },
   "outputs": [
    {
     "ename": "FileNotFoundError",
     "evalue": "[Errno 2] File b'/centaline./hk_island/Kennedy_town_sai_ying_pun.csv' does not exist: b'/centaline./hk_island/Kennedy_town_sai_ying_pun.csv'",
     "output_type": "error",
     "traceback": [
      "\u001b[0;31m---------------------------------------------------------------------------\u001b[0m",
      "\u001b[0;31mFileNotFoundError\u001b[0m                         Traceback (most recent call last)",
      "\u001b[0;32m<ipython-input-6-c5c3f715a01e>\u001b[0m in \u001b[0;36m<module>\u001b[0;34m\u001b[0m\n\u001b[1;32m     42\u001b[0m \u001b[0;34m\u001b[0m\u001b[0m\n\u001b[1;32m     43\u001b[0m \u001b[0;31m# Get data by distirct\u001b[0m\u001b[0;34m\u001b[0m\u001b[0;34m\u001b[0m\u001b[0;34m\u001b[0m\u001b[0m\n\u001b[0;32m---> 44\u001b[0;31m \u001b[0mdata_df_hk\u001b[0m \u001b[0;34m=\u001b[0m \u001b[0mget_data_by_district\u001b[0m\u001b[0;34m(\u001b[0m\u001b[0mhk\u001b[0m\u001b[0;34m,\u001b[0m \u001b[0mdir_hk\u001b[0m\u001b[0;34m)\u001b[0m\u001b[0;34m\u001b[0m\u001b[0;34m\u001b[0m\u001b[0m\n\u001b[0m\u001b[1;32m     45\u001b[0m \u001b[0mdata_df_kowloon\u001b[0m \u001b[0;34m=\u001b[0m \u001b[0mget_data_by_district\u001b[0m\u001b[0;34m(\u001b[0m\u001b[0mkowloon\u001b[0m\u001b[0;34m,\u001b[0m \u001b[0mdir_kowloon\u001b[0m\u001b[0;34m)\u001b[0m\u001b[0;34m\u001b[0m\u001b[0;34m\u001b[0m\u001b[0m\n\u001b[1;32m     46\u001b[0m \u001b[0mdata_df_new_east\u001b[0m \u001b[0;34m=\u001b[0m \u001b[0mget_data_by_district\u001b[0m\u001b[0;34m(\u001b[0m\u001b[0mnew_east\u001b[0m\u001b[0;34m,\u001b[0m \u001b[0mdir_new_east\u001b[0m\u001b[0;34m)\u001b[0m\u001b[0;34m\u001b[0m\u001b[0;34m\u001b[0m\u001b[0m\n",
      "\u001b[0;32m<ipython-input-6-c5c3f715a01e>\u001b[0m in \u001b[0;36mget_data_by_district\u001b[0;34m(district_name, disctrict_dir)\u001b[0m\n\u001b[1;32m     12\u001b[0m   \u001b[0mdistrict_df\u001b[0m \u001b[0;34m=\u001b[0m \u001b[0mpd\u001b[0m\u001b[0;34m.\u001b[0m\u001b[0mDataFrame\u001b[0m\u001b[0;34m(\u001b[0m\u001b[0;34m)\u001b[0m\u001b[0;34m\u001b[0m\u001b[0;34m\u001b[0m\u001b[0m\n\u001b[1;32m     13\u001b[0m   \u001b[0;32mfor\u001b[0m \u001b[0mregion\u001b[0m \u001b[0;32min\u001b[0m \u001b[0mdistrict_name\u001b[0m\u001b[0;34m:\u001b[0m\u001b[0;34m\u001b[0m\u001b[0;34m\u001b[0m\u001b[0m\n\u001b[0;32m---> 14\u001b[0;31m     \u001b[0mnew_df\u001b[0m \u001b[0;34m=\u001b[0m \u001b[0mpd\u001b[0m\u001b[0;34m.\u001b[0m\u001b[0mread_csv\u001b[0m\u001b[0;34m(\u001b[0m\u001b[0mdata_dir\u001b[0m\u001b[0;34m+\u001b[0m\u001b[0mdisctrict_dir\u001b[0m\u001b[0;34m+\u001b[0m\u001b[0mregion\u001b[0m\u001b[0;34m+\u001b[0m\u001b[0;34m\".csv\"\u001b[0m\u001b[0;34m)\u001b[0m\u001b[0;34m\u001b[0m\u001b[0;34m\u001b[0m\u001b[0m\n\u001b[0m\u001b[1;32m     15\u001b[0m     \u001b[0mnew_df\u001b[0m\u001b[0;34m[\u001b[0m\u001b[0;34m\"District\"\u001b[0m\u001b[0;34m]\u001b[0m \u001b[0;34m=\u001b[0m \u001b[0mregion\u001b[0m\u001b[0;34m\u001b[0m\u001b[0;34m\u001b[0m\u001b[0m\n\u001b[1;32m     16\u001b[0m     \u001b[0mdistrict_df\u001b[0m \u001b[0;34m=\u001b[0m \u001b[0mpd\u001b[0m\u001b[0;34m.\u001b[0m\u001b[0mconcat\u001b[0m\u001b[0;34m(\u001b[0m\u001b[0;34m[\u001b[0m\u001b[0mdistrict_df\u001b[0m\u001b[0;34m,\u001b[0m \u001b[0mnew_df\u001b[0m\u001b[0;34m]\u001b[0m\u001b[0;34m,\u001b[0m \u001b[0maxis\u001b[0m\u001b[0;34m=\u001b[0m\u001b[0;36m0\u001b[0m\u001b[0;34m)\u001b[0m\u001b[0;34m\u001b[0m\u001b[0;34m\u001b[0m\u001b[0m\n",
      "\u001b[0;32m/opt/anaconda3/lib/python3.7/site-packages/pandas/io/parsers.py\u001b[0m in \u001b[0;36mparser_f\u001b[0;34m(filepath_or_buffer, sep, delimiter, header, names, index_col, usecols, squeeze, prefix, mangle_dupe_cols, dtype, engine, converters, true_values, false_values, skipinitialspace, skiprows, skipfooter, nrows, na_values, keep_default_na, na_filter, verbose, skip_blank_lines, parse_dates, infer_datetime_format, keep_date_col, date_parser, dayfirst, cache_dates, iterator, chunksize, compression, thousands, decimal, lineterminator, quotechar, quoting, doublequote, escapechar, comment, encoding, dialect, error_bad_lines, warn_bad_lines, delim_whitespace, low_memory, memory_map, float_precision)\u001b[0m\n\u001b[1;32m    683\u001b[0m         )\n\u001b[1;32m    684\u001b[0m \u001b[0;34m\u001b[0m\u001b[0m\n\u001b[0;32m--> 685\u001b[0;31m         \u001b[0;32mreturn\u001b[0m \u001b[0m_read\u001b[0m\u001b[0;34m(\u001b[0m\u001b[0mfilepath_or_buffer\u001b[0m\u001b[0;34m,\u001b[0m \u001b[0mkwds\u001b[0m\u001b[0;34m)\u001b[0m\u001b[0;34m\u001b[0m\u001b[0;34m\u001b[0m\u001b[0m\n\u001b[0m\u001b[1;32m    686\u001b[0m \u001b[0;34m\u001b[0m\u001b[0m\n\u001b[1;32m    687\u001b[0m     \u001b[0mparser_f\u001b[0m\u001b[0;34m.\u001b[0m\u001b[0m__name__\u001b[0m \u001b[0;34m=\u001b[0m \u001b[0mname\u001b[0m\u001b[0;34m\u001b[0m\u001b[0;34m\u001b[0m\u001b[0m\n",
      "\u001b[0;32m/opt/anaconda3/lib/python3.7/site-packages/pandas/io/parsers.py\u001b[0m in \u001b[0;36m_read\u001b[0;34m(filepath_or_buffer, kwds)\u001b[0m\n\u001b[1;32m    455\u001b[0m \u001b[0;34m\u001b[0m\u001b[0m\n\u001b[1;32m    456\u001b[0m     \u001b[0;31m# Create the parser.\u001b[0m\u001b[0;34m\u001b[0m\u001b[0;34m\u001b[0m\u001b[0;34m\u001b[0m\u001b[0m\n\u001b[0;32m--> 457\u001b[0;31m     \u001b[0mparser\u001b[0m \u001b[0;34m=\u001b[0m \u001b[0mTextFileReader\u001b[0m\u001b[0;34m(\u001b[0m\u001b[0mfp_or_buf\u001b[0m\u001b[0;34m,\u001b[0m \u001b[0;34m**\u001b[0m\u001b[0mkwds\u001b[0m\u001b[0;34m)\u001b[0m\u001b[0;34m\u001b[0m\u001b[0;34m\u001b[0m\u001b[0m\n\u001b[0m\u001b[1;32m    458\u001b[0m \u001b[0;34m\u001b[0m\u001b[0m\n\u001b[1;32m    459\u001b[0m     \u001b[0;32mif\u001b[0m \u001b[0mchunksize\u001b[0m \u001b[0;32mor\u001b[0m \u001b[0miterator\u001b[0m\u001b[0;34m:\u001b[0m\u001b[0;34m\u001b[0m\u001b[0;34m\u001b[0m\u001b[0m\n",
      "\u001b[0;32m/opt/anaconda3/lib/python3.7/site-packages/pandas/io/parsers.py\u001b[0m in \u001b[0;36m__init__\u001b[0;34m(self, f, engine, **kwds)\u001b[0m\n\u001b[1;32m    893\u001b[0m             \u001b[0mself\u001b[0m\u001b[0;34m.\u001b[0m\u001b[0moptions\u001b[0m\u001b[0;34m[\u001b[0m\u001b[0;34m\"has_index_names\"\u001b[0m\u001b[0;34m]\u001b[0m \u001b[0;34m=\u001b[0m \u001b[0mkwds\u001b[0m\u001b[0;34m[\u001b[0m\u001b[0;34m\"has_index_names\"\u001b[0m\u001b[0;34m]\u001b[0m\u001b[0;34m\u001b[0m\u001b[0;34m\u001b[0m\u001b[0m\n\u001b[1;32m    894\u001b[0m \u001b[0;34m\u001b[0m\u001b[0m\n\u001b[0;32m--> 895\u001b[0;31m         \u001b[0mself\u001b[0m\u001b[0;34m.\u001b[0m\u001b[0m_make_engine\u001b[0m\u001b[0;34m(\u001b[0m\u001b[0mself\u001b[0m\u001b[0;34m.\u001b[0m\u001b[0mengine\u001b[0m\u001b[0;34m)\u001b[0m\u001b[0;34m\u001b[0m\u001b[0;34m\u001b[0m\u001b[0m\n\u001b[0m\u001b[1;32m    896\u001b[0m \u001b[0;34m\u001b[0m\u001b[0m\n\u001b[1;32m    897\u001b[0m     \u001b[0;32mdef\u001b[0m \u001b[0mclose\u001b[0m\u001b[0;34m(\u001b[0m\u001b[0mself\u001b[0m\u001b[0;34m)\u001b[0m\u001b[0;34m:\u001b[0m\u001b[0;34m\u001b[0m\u001b[0;34m\u001b[0m\u001b[0m\n",
      "\u001b[0;32m/opt/anaconda3/lib/python3.7/site-packages/pandas/io/parsers.py\u001b[0m in \u001b[0;36m_make_engine\u001b[0;34m(self, engine)\u001b[0m\n\u001b[1;32m   1133\u001b[0m     \u001b[0;32mdef\u001b[0m \u001b[0m_make_engine\u001b[0m\u001b[0;34m(\u001b[0m\u001b[0mself\u001b[0m\u001b[0;34m,\u001b[0m \u001b[0mengine\u001b[0m\u001b[0;34m=\u001b[0m\u001b[0;34m\"c\"\u001b[0m\u001b[0;34m)\u001b[0m\u001b[0;34m:\u001b[0m\u001b[0;34m\u001b[0m\u001b[0;34m\u001b[0m\u001b[0m\n\u001b[1;32m   1134\u001b[0m         \u001b[0;32mif\u001b[0m \u001b[0mengine\u001b[0m \u001b[0;34m==\u001b[0m \u001b[0;34m\"c\"\u001b[0m\u001b[0;34m:\u001b[0m\u001b[0;34m\u001b[0m\u001b[0;34m\u001b[0m\u001b[0m\n\u001b[0;32m-> 1135\u001b[0;31m             \u001b[0mself\u001b[0m\u001b[0;34m.\u001b[0m\u001b[0m_engine\u001b[0m \u001b[0;34m=\u001b[0m \u001b[0mCParserWrapper\u001b[0m\u001b[0;34m(\u001b[0m\u001b[0mself\u001b[0m\u001b[0;34m.\u001b[0m\u001b[0mf\u001b[0m\u001b[0;34m,\u001b[0m \u001b[0;34m**\u001b[0m\u001b[0mself\u001b[0m\u001b[0;34m.\u001b[0m\u001b[0moptions\u001b[0m\u001b[0;34m)\u001b[0m\u001b[0;34m\u001b[0m\u001b[0;34m\u001b[0m\u001b[0m\n\u001b[0m\u001b[1;32m   1136\u001b[0m         \u001b[0;32melse\u001b[0m\u001b[0;34m:\u001b[0m\u001b[0;34m\u001b[0m\u001b[0;34m\u001b[0m\u001b[0m\n\u001b[1;32m   1137\u001b[0m             \u001b[0;32mif\u001b[0m \u001b[0mengine\u001b[0m \u001b[0;34m==\u001b[0m \u001b[0;34m\"python\"\u001b[0m\u001b[0;34m:\u001b[0m\u001b[0;34m\u001b[0m\u001b[0;34m\u001b[0m\u001b[0m\n",
      "\u001b[0;32m/opt/anaconda3/lib/python3.7/site-packages/pandas/io/parsers.py\u001b[0m in \u001b[0;36m__init__\u001b[0;34m(self, src, **kwds)\u001b[0m\n\u001b[1;32m   1915\u001b[0m         \u001b[0mkwds\u001b[0m\u001b[0;34m[\u001b[0m\u001b[0;34m\"usecols\"\u001b[0m\u001b[0;34m]\u001b[0m \u001b[0;34m=\u001b[0m \u001b[0mself\u001b[0m\u001b[0;34m.\u001b[0m\u001b[0musecols\u001b[0m\u001b[0;34m\u001b[0m\u001b[0;34m\u001b[0m\u001b[0m\n\u001b[1;32m   1916\u001b[0m \u001b[0;34m\u001b[0m\u001b[0m\n\u001b[0;32m-> 1917\u001b[0;31m         \u001b[0mself\u001b[0m\u001b[0;34m.\u001b[0m\u001b[0m_reader\u001b[0m \u001b[0;34m=\u001b[0m \u001b[0mparsers\u001b[0m\u001b[0;34m.\u001b[0m\u001b[0mTextReader\u001b[0m\u001b[0;34m(\u001b[0m\u001b[0msrc\u001b[0m\u001b[0;34m,\u001b[0m \u001b[0;34m**\u001b[0m\u001b[0mkwds\u001b[0m\u001b[0;34m)\u001b[0m\u001b[0;34m\u001b[0m\u001b[0;34m\u001b[0m\u001b[0m\n\u001b[0m\u001b[1;32m   1918\u001b[0m         \u001b[0mself\u001b[0m\u001b[0;34m.\u001b[0m\u001b[0munnamed_cols\u001b[0m \u001b[0;34m=\u001b[0m \u001b[0mself\u001b[0m\u001b[0;34m.\u001b[0m\u001b[0m_reader\u001b[0m\u001b[0;34m.\u001b[0m\u001b[0munnamed_cols\u001b[0m\u001b[0;34m\u001b[0m\u001b[0;34m\u001b[0m\u001b[0m\n\u001b[1;32m   1919\u001b[0m \u001b[0;34m\u001b[0m\u001b[0m\n",
      "\u001b[0;32mpandas/_libs/parsers.pyx\u001b[0m in \u001b[0;36mpandas._libs.parsers.TextReader.__cinit__\u001b[0;34m()\u001b[0m\n",
      "\u001b[0;32mpandas/_libs/parsers.pyx\u001b[0m in \u001b[0;36mpandas._libs.parsers.TextReader._setup_parser_source\u001b[0;34m()\u001b[0m\n",
      "\u001b[0;31mFileNotFoundError\u001b[0m: [Errno 2] File b'/centaline./hk_island/Kennedy_town_sai_ying_pun.csv' does not exist: b'/centaline./hk_island/Kennedy_town_sai_ying_pun.csv'"
     ]
    }
   ],
   "source": [
    "# For local directory\n",
    "data_dir = \"/centaline\"\n",
    "\n",
    "# Data directory\n",
    "dir_hk = \"./hk_island/\"\n",
    "dir_kowloon = \"./kowloon/\"\n",
    "dir_new_east = \"./new_east/\"\n",
    "dir_new_west = \"./new_west/\"\n",
    "\n",
    "def get_data_by_district(district_name, disctrict_dir):\n",
    "\n",
    "  district_df = pd.DataFrame()\n",
    "  for region in district_name:\n",
    "    new_df = pd.read_csv(data_dir+disctrict_dir+region+\".csv\")\n",
    "    new_df[\"District\"] = region\n",
    "    district_df = pd.concat([district_df, new_df], axis=0)\n",
    "\n",
    "  # Data cleaning\n",
    "  district_df['SaleableArea'] = district_df['SaleableArea'].replace(\"-\", np.nan)\n",
    "  district_df['SaleableArea'] = pd.to_numeric(district_df['SaleableArea']) \n",
    "  district_df['UnitPricePerSaleableArea'] = district_df['UnitPricePerSaleableArea'].replace(\"-\", np.nan)\n",
    "  district_df['UnitPricePerSaleableArea'] = pd.to_numeric(district_df['UnitPricePerSaleableArea']) \n",
    "  district_df['GrossArea'] = district_df['GrossArea'].replace(\"-\", np.nan)\n",
    "  district_df['GrossArea'] = pd.to_numeric(district_df['GrossArea']) \n",
    "  district_df['LastHold'] = district_df['LastHold'].replace(\"-\", np.nan)\n",
    "  district_df['LastHold'] = pd.to_numeric(district_df['LastHold']) \n",
    "  district_df['GainLoss'] = district_df['GainLoss'].replace(\"-\", np.nan)\n",
    "  district_df['GainLoss'] = pd.to_numeric(district_df['GainLoss']) \n",
    "\n",
    "  district_df = district_df.drop(district_df.columns[0], axis=1)\n",
    "  district_df['RegDate'] = pd.to_datetime(district_df['RegDate'])\n",
    "  district_df.sort_values(by=['RegDate'], inplace=True, ascending=False)\n",
    "\n",
    "  district_df = district_df.reset_index()\n",
    "  district_df = district_df.drop(['index'], axis=1)\n",
    "  return district_df\n",
    "\n",
    "def download_data(filename, download_data):\n",
    "  dataFrame = pd.DataFrame(data=download_data)\n",
    "  dataFrame.to_csv(filename)\n",
    "  files.download(filename)\n",
    "\n",
    "# Get data by distirct\n",
    "data_df_hk = get_data_by_district(hk, dir_hk)\n",
    "data_df_kowloon = get_data_by_district(kowloon, dir_kowloon)\n",
    "data_df_new_east = get_data_by_district(new_east, dir_new_east)\n",
    "data_df_new_west = get_data_by_district(new_west, dir_new_west)\n",
    "\n",
    "# Get all district data\n",
    "data_df_all = pd.concat([data_df_hk, data_df_kowloon, data_df_new_east, data_df_new_west], axis=0)\n",
    "data_df_all.sort_values(by=['RegDate'], inplace=True, ascending=False)\n",
    "data_df_all = data_df_all.reset_index()\n",
    "data_df_all = data_df_all.drop(['index'], axis=1)\n",
    "data_df_all.info()"
   ]
  },
  {
   "cell_type": "markdown",
   "metadata": {
    "id": "K4GhD2pFTJ7B"
   },
   "source": [
    "**Unit price for saleable area distribution**"
   ]
  },
  {
   "cell_type": "code",
   "execution_count": null,
   "metadata": {
    "colab": {
     "base_uri": "https://localhost:8080/",
     "height": 512
    },
    "executionInfo": {
     "elapsed": 2832,
     "status": "ok",
     "timestamp": 1610552811133,
     "user": {
      "displayName": "Kwanyoung Lee",
      "photoUrl": "",
      "userId": "17965056898907400088"
     },
     "user_tz": -480
    },
    "id": "9U_9iry2DQkf",
    "outputId": "1cad7d3a-e2d7-4933-c774-13019d6564e4"
   },
   "outputs": [],
   "source": [
    "# Distribution\n",
    "print(data_df_all['UnitPricePerSaleableArea'].describe())\n",
    "\n",
    "# Histogram\n",
    "plt.figure(figsize=(10,5))\n",
    "sns.distplot(data_df_all['UnitPricePerSaleableArea']);"
   ]
  },
  {
   "cell_type": "markdown",
   "metadata": {
    "id": "q64tLJAvS3JL"
   },
   "source": [
    "**Feature Engineering**"
   ]
  },
  {
   "cell_type": "code",
   "execution_count": null,
   "metadata": {
    "id": "wUQT-FAeT7W-"
   },
   "outputs": [],
   "source": [
    "def removeOutlier(outliers_removed_df, col):\n",
    "  # Calculate mean and standard deviation\n",
    "  data_mean, data_std = np.mean(outliers_removed_df[col]), np.std(outliers_removed_df[col])\n",
    "  # Calculate upper boundary\n",
    "  upper = data_mean + data_std * 5\n",
    "\n",
    "  # Remove outliers\n",
    "  outliers_removed_df = outliers_removed_df[outliers_removed_df[col] < upper]\n",
    "\n",
    "  print(\"Length of data after removing outliers:\", len(outliers_removed_df))\n",
    "\n",
    "  fig, ax = plt.subplots(figsize=(10, 3))\n",
    "  sns.boxplot(x=col, data=outliers_removed_df)\n",
    "\n",
    "  return outliers_removed_df"
   ]
  },
  {
   "cell_type": "code",
   "execution_count": null,
   "metadata": {
    "colab": {
     "base_uri": "https://localhost:8080/",
     "height": 253
    },
    "executionInfo": {
     "elapsed": 1760,
     "status": "ok",
     "timestamp": 1610555256598,
     "user": {
      "displayName": "Kwanyoung Lee",
      "photoUrl": "",
      "userId": "17965056898907400088"
     },
     "user_tz": -480
    },
    "id": "6gn8OzTc1pt-",
    "outputId": "d170bc58-4586-43c2-a80e-14be16ac70a6"
   },
   "outputs": [],
   "source": [
    "# Data preprocessing\n",
    "processed_df = data_df_all.copy()\n",
    "\n",
    "# Add new features\n",
    "processed_df['month'] = pd.to_datetime(processed_df['RegDate']).dt.month\n",
    "processed_df['year'] = pd.to_datetime(processed_df['RegDate']).dt.year\n",
    "\n",
    "# Drop unnecessary columns\n",
    "processed_df = processed_df.drop(['Address', 'LastHold', 'GainLoss', 'District', 'RegDate', 'Price'], axis=1)\n",
    "\n",
    "# Handling missinig values\n",
    "# Fill with mean\n",
    "unitSaleableArea_mean = processed_df['UnitPricePerSaleableArea'].mean()\n",
    "processed_df['UnitPricePerSaleableArea'] = processed_df['UnitPricePerSaleableArea'].fillna(unitSaleableArea_mean)\n",
    "\n",
    "# Remove outliers\n",
    "#processed_df = removeOutlier(processed_df, 'UnitPricePerSaleableArea')"
   ]
  },
  {
   "cell_type": "markdown",
   "metadata": {
    "id": "gvCFicdGV6kP"
   },
   "source": [
    "**Unit price for saleable area distribution (after removing outliers)**"
   ]
  },
  {
   "cell_type": "code",
   "execution_count": null,
   "metadata": {
    "colab": {
     "base_uri": "https://localhost:8080/",
     "height": 498
    },
    "executionInfo": {
     "elapsed": 3081,
     "status": "ok",
     "timestamp": 1610553997567,
     "user": {
      "displayName": "Kwanyoung Lee",
      "photoUrl": "",
      "userId": "17965056898907400088"
     },
     "user_tz": -480
    },
    "id": "5N-jWBk-EBv_",
    "outputId": "fc6f1252-6e63-4da3-ad3e-483e754134b7"
   },
   "outputs": [],
   "source": [
    "# Distribution\n",
    "print(processed_df['UnitPricePerSaleableArea'].describe())\n",
    "\n",
    "# Histogram\n",
    "plt.figure(figsize=(10,5))\n",
    "sns.distplot(processed_df['UnitPricePerSaleableArea']);"
   ]
  },
  {
   "cell_type": "markdown",
   "metadata": {
    "id": "E4uQLzflMEJg"
   },
   "source": [
    "**Calculate monthly average unit price for saleable area**"
   ]
  },
  {
   "cell_type": "code",
   "execution_count": null,
   "metadata": {
    "colab": {
     "base_uri": "https://localhost:8080/",
     "height": 204
    },
    "executionInfo": {
     "elapsed": 1135,
     "status": "ok",
     "timestamp": 1610555245834,
     "user": {
      "displayName": "Kwanyoung Lee",
      "photoUrl": "",
      "userId": "17965056898907400088"
     },
     "user_tz": -480
    },
    "id": "ygURzryfMI4I",
    "outputId": "e3f61ffb-e39b-4eb8-b560-d4fc75a2dd8b"
   },
   "outputs": [],
   "source": [
    "monthly_df = processed_df.copy()\n",
    "monthly_df = monthly_df.groupby(['year','month'],as_index=False).mean()\n",
    "monthly_df.head()"
   ]
  },
  {
   "cell_type": "code",
   "execution_count": null,
   "metadata": {
    "colab": {
     "base_uri": "https://localhost:8080/",
     "height": 498
    },
    "executionInfo": {
     "elapsed": 1283,
     "status": "ok",
     "timestamp": 1610553998716,
     "user": {
      "displayName": "Kwanyoung Lee",
      "photoUrl": "",
      "userId": "17965056898907400088"
     },
     "user_tz": -480
    },
    "id": "miSxE6qNKjas",
    "outputId": "2df8bfd1-da0b-4c56-972d-3e28c0b04d55"
   },
   "outputs": [],
   "source": [
    "# Distribution\n",
    "print(monthly_df['UnitPricePerSaleableArea'].describe())\n",
    "\n",
    "# Histogram\n",
    "plt.figure(figsize=(10,5))\n",
    "sns.distplot(monthly_df['UnitPricePerSaleableArea'], axlabel=\"Monthly average unit price for saleable area\");\n"
   ]
  },
  {
   "cell_type": "markdown",
   "metadata": {
    "id": "dlPSzvOWn9Fr"
   },
   "source": [
    "**Import economic data**"
   ]
  },
  {
   "cell_type": "code",
   "execution_count": null,
   "metadata": {
    "id": "aB6TA5twsN0a"
   },
   "outputs": [],
   "source": [
    "new_monthly_df = monthly_df.copy()\n",
    "\n",
    "conditions_year = [\n",
    "  (new_monthly_df['year'] == 2017), (new_monthly_df['year'] == 2018),\n",
    "  (new_monthly_df['year'] == 2019) \n",
    "]\n",
    "\n",
    "conditions_half = [\n",
    "  (new_monthly_df['year'] == 2017) & (new_monthly_df['month'] < 7), (new_monthly_df['year'] == 2017) & (new_monthly_df['month'] < 13),\n",
    "  (new_monthly_df['year'] == 2018) & (new_monthly_df['month'] < 7), (new_monthly_df['year'] == 2018) & (new_monthly_df['month'] < 13),\n",
    "  (new_monthly_df['year'] == 2019) & (new_monthly_df['month'] < 7), (new_monthly_df['year'] == 2019) & (new_monthly_df['month'] < 13),\n",
    "  (new_monthly_df['year'] == 2020) & (new_monthly_df['month'] < 7)\n",
    "]\n",
    "\n",
    "conditions_quarter = [\n",
    "  (new_monthly_df['year'] == 2017) & (new_monthly_df['month'] < 4), (new_monthly_df['year'] == 2017) & (new_monthly_df['month'] < 7),\n",
    "  (new_monthly_df['year'] == 2017) & (new_monthly_df['month'] < 10), (new_monthly_df['year'] == 2017) & (new_monthly_df['month'] < 13),\n",
    "  (new_monthly_df['year'] == 2018) & (new_monthly_df['month'] < 4), (new_monthly_df['year'] == 2018) & (new_monthly_df['month'] < 7),\n",
    "  (new_monthly_df['year'] == 2018) & (new_monthly_df['month'] < 10), (new_monthly_df['year'] == 2018) & (new_monthly_df['month'] < 13),\n",
    "  (new_monthly_df['year'] == 2019) & (new_monthly_df['month'] < 4), (new_monthly_df['year'] == 2019) & (new_monthly_df['month'] < 7),\n",
    "  (new_monthly_df['year'] == 2019) & (new_monthly_df['month'] < 10), (new_monthly_df['year'] == 2019) & (new_monthly_df['month'] < 13),\n",
    "  (new_monthly_df['year'] == 2020) & (new_monthly_df['month'] < 4), (new_monthly_df['year'] == 2020) & (new_monthly_df['month'] < 7),\n",
    "  (new_monthly_df['year'] == 2020) & (new_monthly_df['month'] < 10)\n",
    "]\n",
    "\n",
    "conditions_month = [\n",
    "  (new_monthly_df['year'] == 2017) & (new_monthly_df['month'] == 1), (new_monthly_df['year'] == 2017) & (new_monthly_df['month'] == 2),\n",
    "  (new_monthly_df['year'] == 2017) & (new_monthly_df['month'] == 3), (new_monthly_df['year'] == 2017) & (new_monthly_df['month'] == 4),\n",
    "  (new_monthly_df['year'] == 2017) & (new_monthly_df['month'] == 5), (new_monthly_df['year'] == 2017) & (new_monthly_df['month'] == 6),\n",
    "  (new_monthly_df['year'] == 2017) & (new_monthly_df['month'] == 7), (new_monthly_df['year'] == 2017) & (new_monthly_df['month'] == 8),\n",
    "  (new_monthly_df['year'] == 2017) & (new_monthly_df['month'] == 9), (new_monthly_df['year'] == 2017) & (new_monthly_df['month'] == 10),\n",
    "  (new_monthly_df['year'] == 2017) & (new_monthly_df['month'] == 11), (new_monthly_df['year'] == 2017) & (new_monthly_df['month'] == 12),\n",
    "  (new_monthly_df['year'] == 2018) & (new_monthly_df['month'] == 1), (new_monthly_df['year'] == 2018) & (new_monthly_df['month'] == 2),\n",
    "  (new_monthly_df['year'] == 2018) & (new_monthly_df['month'] == 3), (new_monthly_df['year'] == 2018) & (new_monthly_df['month'] == 4),\n",
    "  (new_monthly_df['year'] == 2018) & (new_monthly_df['month'] == 5), (new_monthly_df['year'] == 2018) & (new_monthly_df['month'] == 6),\n",
    "  (new_monthly_df['year'] == 2018) & (new_monthly_df['month'] == 7), (new_monthly_df['year'] == 2018) & (new_monthly_df['month'] == 8),\n",
    "  (new_monthly_df['year'] == 2018) & (new_monthly_df['month'] == 9), (new_monthly_df['year'] == 2018) & (new_monthly_df['month'] == 10),\n",
    "  (new_monthly_df['year'] == 2018) & (new_monthly_df['month'] == 11), (new_monthly_df['year'] == 2018) & (new_monthly_df['month'] == 12),\n",
    "  (new_monthly_df['year'] == 2019) & (new_monthly_df['month'] == 1), (new_monthly_df['year'] == 2019) & (new_monthly_df['month'] == 2),\n",
    "  (new_monthly_df['year'] == 2019) & (new_monthly_df['month'] == 3), (new_monthly_df['year'] == 2019) & (new_monthly_df['month'] == 4),\n",
    "  (new_monthly_df['year'] == 2019) & (new_monthly_df['month'] == 5), (new_monthly_df['year'] == 2019) & (new_monthly_df['month'] == 6),\n",
    "  (new_monthly_df['year'] == 2019) & (new_monthly_df['month'] == 7), (new_monthly_df['year'] == 2019) & (new_monthly_df['month'] == 8),\n",
    "  (new_monthly_df['year'] == 2019) & (new_monthly_df['month'] == 9), (new_monthly_df['year'] == 2019) & (new_monthly_df['month'] == 10),\n",
    "  (new_monthly_df['year'] == 2019) & (new_monthly_df['month'] == 11), (new_monthly_df['year'] == 2019) & (new_monthly_df['month'] == 12),\n",
    "  (new_monthly_df['year'] == 2020) & (new_monthly_df['month'] == 1), (new_monthly_df['year'] == 2020) & (new_monthly_df['month'] == 2),\n",
    "  (new_monthly_df['year'] == 2020) & (new_monthly_df['month'] == 3), (new_monthly_df['year'] == 2020) & (new_monthly_df['month'] == 4),\n",
    "  (new_monthly_df['year'] == 2020) & (new_monthly_df['month'] == 5), (new_monthly_df['year'] == 2020) & (new_monthly_df['month'] == 6),\n",
    "  (new_monthly_df['year'] == 2020) & (new_monthly_df['month'] == 7), (new_monthly_df['year'] == 2020) & (new_monthly_df['month'] == 8),\n",
    "  (new_monthly_df['year'] == 2020) & (new_monthly_df['month'] == 9), (new_monthly_df['year'] == 2020) & (new_monthly_df['month'] == 10),\n",
    "  (new_monthly_df['year'] == 2020) & (new_monthly_df['month'] == 11)\n",
    "]"
   ]
  },
  {
   "cell_type": "code",
   "execution_count": null,
   "metadata": {
    "colab": {
     "base_uri": "https://localhost:8080/",
     "height": 309
    },
    "executionInfo": {
     "elapsed": 934,
     "status": "ok",
     "timestamp": 1610555608651,
     "user": {
      "displayName": "Kwanyoung Lee",
      "photoUrl": "",
      "userId": "17965056898907400088"
     },
     "user_tz": -480
    },
    "id": "wRVanaMErj8-",
    "outputId": "59476ca4-45e3-48b7-dae1-ff736ed5b567"
   },
   "outputs": [],
   "source": [
    "# Data directory\n",
    "file_dir = \"../determinants/\"\n",
    "\n",
    "district_df = pd.DataFrame()\n",
    "\n",
    "population_df = pd.read_csv(data_dir+file_dir+\"TABLE001.csv\")\n",
    "unemployment_rate_df = pd.read_csv(data_dir+file_dir+\"TABLE006.csv\")\n",
    "export_import_df = pd.read_csv(data_dir+file_dir+\"TABLE055.csv\")\n",
    "gdp_df = pd.read_csv(data_dir+file_dir+\"TABLE030.csv\")\n",
    "consumer_price_indices_df = pd.read_csv(data_dir+file_dir+\"TABLE052.csv\")\n",
    "\n",
    "value_population = population_df['Number_000'].tolist()\n",
    "value_unemployment_adjusted = unemployment_rate_df['Unemployment_rate_seasonally_adjusted'].tolist()\n",
    "value_unemployment_not_adjusted = unemployment_rate_df['Unemployment_rate_not_adjusted'].tolist()\n",
    "value_import = export_import_df['Imports'].tolist()\n",
    "value_export = export_import_df['Total_exports'].tolist()\n",
    "value_gdp = gdp_df['GDP_current_market_prices'].tolist()\n",
    "value_gdp_per_capita = gdp_df['Per_capita_GDP_current_market_prices'].tolist()\n",
    "value_gdp = gdp_df['GDP_current_market_prices'].tolist()\n",
    "value_gdp_per_capita = gdp_df['Per_capita_GDP_current_market_prices'].tolist()\n",
    "value_consumer_price_indices = consumer_price_indices_df['Composite_Consumer_Price_Index'].tolist()\n",
    "\n",
    "new_monthly_df['Population'] = np.select(conditions_half, value_population) \n",
    "new_monthly_df['Unemployment_adjusted'] = np.select(conditions_month[:46], value_unemployment_adjusted) \n",
    "new_monthly_df['Unemployment_not_adjusted'] = np.select(conditions_month[:46], value_unemployment_not_adjusted)\n",
    "new_monthly_df['Imports'] = np.select(conditions_month, value_import) \n",
    "new_monthly_df['Total_exports'] = np.select(conditions_month, value_export)\n",
    "new_monthly_df['GDP'] = np.select(conditions_quarter, value_gdp[3:])\n",
    "new_monthly_df['GDP_per_capita'] = np.select(conditions_year, value_gdp_per_capita[:3])\n",
    "new_monthly_df['CCP_index'] = np.select(conditions_month, value_consumer_price_indices)\n",
    "\n",
    "new_monthly_df['GDP'] = new_monthly_df['GDP'].str.replace(',', '').astype(float)\n",
    "new_monthly_df['GDP_per_capita'] = new_monthly_df['GDP_per_capita'].str.replace(',', '').astype(float)\n",
    "\n",
    "new_monthly_df.head()\n",
    "\n",
    "df = new_monthly_df.copy()\n",
    "df = df[(df['year'] < 2020) & (df['month'] < 7)]\n",
    "df['date'] = pd.to_datetime(df[['year', 'month']].assign(Day=1))\n",
    "\n",
    "df.head()"
   ]
  },
  {
   "cell_type": "markdown",
   "metadata": {
    "id": "gULTw7op15mW"
   },
   "source": [
    "**Data analysis**"
   ]
  },
  {
   "cell_type": "code",
   "execution_count": null,
   "metadata": {
    "executionInfo": {
     "elapsed": 1606,
     "status": "ok",
     "timestamp": 1610558000033,
     "user": {
      "displayName": "Kwanyoung Lee",
      "photoUrl": "",
      "userId": "17965056898907400088"
     },
     "user_tz": -480
    },
    "id": "sW1W44LsrOGb"
   },
   "outputs": [],
   "source": [
    "def drawGraphs(var):\n",
    "  x = df[var]\n",
    "  y = df['UnitPricePerSaleableArea']\n",
    "\n",
    "  plt.scatter(x, y)\n",
    "  plt.title(var+\" vs average unit price\")\n",
    "  plt.xlabel(var)\n",
    "  plt.xticks(rotation=45)\n",
    "  plt.ylabel(\"average unit price\")\n",
    "  z = np.polyfit(x, y, 1)\n",
    "  p = np.poly1d(z)\n",
    "  plt.plot(x,p(x),\"r--\")\n",
    "  plt.show()\n",
    "\n",
    "def drawLineGraphs(var):\n",
    "  fig, (ax1, ax2) = plt.subplots(1, 2, figsize=(12,4))\n",
    "\n",
    "  fig.autofmt_xdate()\n",
    "  fig.tight_layout()\n",
    "\n",
    "  ax1.plot(df['date'], df[var])\n",
    "  ax1.set(xlabel='Date', ylabel=var)\n",
    "\n",
    "  ax2.plot(df['date'], df['UnitPricePerSaleableArea'], label = \"line 2\")\n",
    "  ax2.set(xlabel='Date', ylabel=\"Average unit price\")\n",
    "\n",
    "  fig.subplots_adjust(wspace=0.3)\n",
    "  plt.show()"
   ]
  },
  {
   "cell_type": "code",
   "execution_count": null,
   "metadata": {
    "colab": {
     "base_uri": "https://localhost:8080/",
     "height": 329
    },
    "executionInfo": {
     "elapsed": 2727,
     "status": "ok",
     "timestamp": 1610558051867,
     "user": {
      "displayName": "Kwanyoung Lee",
      "photoUrl": "",
      "userId": "17965056898907400088"
     },
     "user_tz": -480
    },
    "id": "5pOVkv1mjt25",
    "outputId": "23e19d54-74ca-4596-feca-8e24eed60e6e"
   },
   "outputs": [],
   "source": [
    "drawGraphs(\"Population\")"
   ]
  },
  {
   "cell_type": "code",
   "execution_count": null,
   "metadata": {
    "colab": {
     "base_uri": "https://localhost:8080/",
     "height": 321
    },
    "executionInfo": {
     "elapsed": 2627,
     "status": "ok",
     "timestamp": 1610558054138,
     "user": {
      "displayName": "Kwanyoung Lee",
      "photoUrl": "",
      "userId": "17965056898907400088"
     },
     "user_tz": -480
    },
    "id": "rOpO8BWnseLM",
    "outputId": "ab585527-dd59-4d55-8dfa-f82eb549555d"
   },
   "outputs": [],
   "source": [
    "drawGraphs(\"Unemployment_adjusted\")"
   ]
  },
  {
   "cell_type": "code",
   "execution_count": null,
   "metadata": {
    "colab": {
     "base_uri": "https://localhost:8080/",
     "height": 321
    },
    "executionInfo": {
     "elapsed": 2207,
     "status": "ok",
     "timestamp": 1610558055401,
     "user": {
      "displayName": "Kwanyoung Lee",
      "photoUrl": "",
      "userId": "17965056898907400088"
     },
     "user_tz": -480
    },
    "id": "ENOvkG-tsl-o",
    "outputId": "dad700fc-8e91-4763-bff0-842bc240bcbf"
   },
   "outputs": [],
   "source": [
    "drawGraphs(\"Unemployment_not_adjusted\")"
   ]
  },
  {
   "cell_type": "code",
   "execution_count": null,
   "metadata": {
    "colab": {
     "base_uri": "https://localhost:8080/",
     "height": 342
    },
    "executionInfo": {
     "elapsed": 2511,
     "status": "ok",
     "timestamp": 1610558057026,
     "user": {
      "displayName": "Kwanyoung Lee",
      "photoUrl": "",
      "userId": "17965056898907400088"
     },
     "user_tz": -480
    },
    "id": "e8FUDvI5sndX",
    "outputId": "9b907184-615e-4d84-a488-11e2ea01aab4"
   },
   "outputs": [],
   "source": [
    "drawGraphs(\"Imports\")"
   ]
  },
  {
   "cell_type": "code",
   "execution_count": null,
   "metadata": {
    "colab": {
     "base_uri": "https://localhost:8080/",
     "height": 343
    },
    "executionInfo": {
     "elapsed": 1260,
     "status": "ok",
     "timestamp": 1610558057541,
     "user": {
      "displayName": "Kwanyoung Lee",
      "photoUrl": "",
      "userId": "17965056898907400088"
     },
     "user_tz": -480
    },
    "id": "hqyBnzEfsqYA",
    "outputId": "b4aa7a4d-9b3a-480d-dd2f-ede055950e78"
   },
   "outputs": [],
   "source": [
    "drawGraphs(\"Total_exports\")"
   ]
  },
  {
   "cell_type": "code",
   "execution_count": null,
   "metadata": {
    "colab": {
     "base_uri": "https://localhost:8080/",
     "height": 342
    },
    "executionInfo": {
     "elapsed": 1085,
     "status": "ok",
     "timestamp": 1610558058895,
     "user": {
      "displayName": "Kwanyoung Lee",
      "photoUrl": "",
      "userId": "17965056898907400088"
     },
     "user_tz": -480
    },
    "id": "xobcyN5ussCQ",
    "outputId": "40e7d73b-e938-4402-9bba-4fca96a23ee9"
   },
   "outputs": [],
   "source": [
    "drawGraphs(\"GDP\")"
   ]
  },
  {
   "cell_type": "code",
   "execution_count": null,
   "metadata": {
    "colab": {
     "base_uri": "https://localhost:8080/",
     "height": 343
    },
    "executionInfo": {
     "elapsed": 1041,
     "status": "ok",
     "timestamp": 1610558060785,
     "user": {
      "displayName": "Kwanyoung Lee",
      "photoUrl": "",
      "userId": "17965056898907400088"
     },
     "user_tz": -480
    },
    "id": "5vDp3hwNstmg",
    "outputId": "35ea565f-6738-42d9-da12-bdb843c19396"
   },
   "outputs": [],
   "source": [
    "drawGraphs(\"GDP_per_capita\")"
   ]
  },
  {
   "cell_type": "code",
   "execution_count": null,
   "metadata": {
    "colab": {
     "base_uri": "https://localhost:8080/",
     "height": 325
    },
    "executionInfo": {
     "elapsed": 997,
     "status": "ok",
     "timestamp": 1610558062508,
     "user": {
      "displayName": "Kwanyoung Lee",
      "photoUrl": "",
      "userId": "17965056898907400088"
     },
     "user_tz": -480
    },
    "id": "6XRRtXgvsvPB",
    "outputId": "30f6ec3c-3411-431b-f2c1-d09ae47f6eca"
   },
   "outputs": [],
   "source": [
    "drawGraphs(\"CCP_index\")"
   ]
  },
  {
   "cell_type": "code",
   "execution_count": null,
   "metadata": {
    "colab": {
     "base_uri": "https://localhost:8080/",
     "height": 460
    },
    "executionInfo": {
     "elapsed": 1512,
     "status": "ok",
     "timestamp": 1610554005451,
     "user": {
      "displayName": "Kwanyoung Lee",
      "photoUrl": "",
      "userId": "17965056898907400088"
     },
     "user_tz": -480
    },
    "id": "S8rq8W614IyW",
    "outputId": "d764939f-ef32-45f3-e657-d8756eb11a9e"
   },
   "outputs": [],
   "source": [
    "corrmat = df.corr()\n",
    "sns.heatmap(corrmat, vmax=.8, square=True);"
   ]
  },
  {
   "cell_type": "code",
   "execution_count": null,
   "metadata": {
    "colab": {
     "base_uri": "https://localhost:8080/",
     "height": 743
    },
    "executionInfo": {
     "elapsed": 3286,
     "status": "ok",
     "timestamp": 1610554010738,
     "user": {
      "displayName": "Kwanyoung Lee",
      "photoUrl": "",
      "userId": "17965056898907400088"
     },
     "user_tz": -480
    },
    "id": "DPc7Urah4Nbd",
    "outputId": "7bbb983c-d576-429d-e638-07266f7c256e"
   },
   "outputs": [],
   "source": [
    "# Price correlation matrix\n",
    "k = 14\n",
    "fig, ax = plt.subplots(figsize=(10,10)) \n",
    "cols = corrmat.nlargest(k, 'UnitPricePerSaleableArea')['UnitPricePerSaleableArea'].index\n",
    "cm = np.corrcoef(df[cols].values.T)\n",
    "sns.set(font_scale=1.25)\n",
    "hm = sns.heatmap(cm, cbar=True, annot=True, square=True, fmt='.2f', annot_kws={'size': 10}, yticklabels=cols.values, xticklabels=cols.values)\n",
    "plt.show()"
   ]
  },
  {
   "cell_type": "code",
   "execution_count": null,
   "metadata": {
    "colab": {
     "base_uri": "https://localhost:8080/",
     "height": 644
    },
    "executionInfo": {
     "elapsed": 2227,
     "status": "ok",
     "timestamp": 1610554118942,
     "user": {
      "displayName": "Kwanyoung Lee",
      "photoUrl": "",
      "userId": "17965056898907400088"
     },
     "user_tz": -480
    },
    "id": "wY6KJ608EhWN",
    "outputId": "4b65bc0d-37d4-48fc-83d0-9ea038eda103"
   },
   "outputs": [],
   "source": [
    "result = df.copy()\n",
    "\n",
    "result = result.drop(['BuildingAge', 'SaleableArea', 'GrossArea'], axis=1) \n",
    "\n",
    "corrmat = result.corr()\n",
    "#sns.heatmap(corrmat, vmax=.8, square=True);\n",
    "\n",
    "k = 12\n",
    "fig, ax = plt.subplots(figsize=(8,8)) \n",
    "cols = corrmat.nlargest(k, 'UnitPricePerSaleableArea')['UnitPricePerSaleableArea'].index\n",
    "cm = np.corrcoef(result[cols].values.T)\n",
    "sns.set(font_scale=1.25)\n",
    "hm = sns.heatmap(cm, cbar=True, annot=True, square=True, fmt='.2f', annot_kws={'size': 10}, yticklabels=cols.values, xticklabels=cols.values)\n",
    "plt.show()"
   ]
  }
 ],
 "metadata": {
  "colab": {
   "authorship_tag": "ABX9TyPPE5knYqSv9ieCETnqWng+",
   "name": "Economic data analysis.ipynb",
   "provenance": []
  },
  "kernelspec": {
   "display_name": "Python 3",
   "language": "python",
   "name": "python3"
  },
  "language_info": {
   "codemirror_mode": {
    "name": "ipython",
    "version": 3
   },
   "file_extension": ".py",
   "mimetype": "text/x-python",
   "name": "python",
   "nbconvert_exporter": "python",
   "pygments_lexer": "ipython3",
   "version": "3.7.4"
  }
 },
 "nbformat": 4,
 "nbformat_minor": 1
}
