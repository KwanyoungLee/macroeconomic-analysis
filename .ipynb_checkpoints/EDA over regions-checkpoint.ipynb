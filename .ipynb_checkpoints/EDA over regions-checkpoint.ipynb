{
 "cells": [
  {
   "cell_type": "markdown",
   "metadata": {
    "id": "rX9coRGvh7Et"
   },
   "source": [
    "**Import Libraries**"
   ]
  },
  {
   "cell_type": "code",
   "execution_count": 2,
   "metadata": {
    "executionInfo": {
     "elapsed": 2103,
     "status": "ok",
     "timestamp": 1610554575596,
     "user": {
      "displayName": "Kwanyoung Lee",
      "photoUrl": "",
      "userId": "17965056898907400088"
     },
     "user_tz": -480
    },
    "id": "JIhhSMzg27C4"
   },
   "outputs": [],
   "source": [
    "import random\n",
    "import pandas as pd\n",
    "import matplotlib.pyplot as plt\n",
    "import seaborn as sns\n",
    "import pandas as pd\n",
    "import numpy as np\n",
    "from scipy.stats import norm\n",
    "from sklearn.preprocessing import LabelEncoder\n",
    "from scipy import stats\n",
    "import warnings\n",
    "from datetime import datetime\n",
    "warnings.filterwarnings('ignore')\n",
    "%matplotlib inline"
   ]
  },
  {
   "cell_type": "markdown",
   "metadata": {
    "id": "D3pLume1Byxw"
   },
   "source": [
    "**Import Data**"
   ]
  },
  {
   "cell_type": "code",
   "execution_count": 3,
   "metadata": {
    "colab": {
     "base_uri": "https://localhost:8080/"
    },
    "executionInfo": {
     "elapsed": 22835,
     "status": "ok",
     "timestamp": 1610554602904,
     "user": {
      "displayName": "Kwanyoung Lee",
      "photoUrl": "",
      "userId": "17965056898907400088"
     },
     "user_tz": -480
    },
    "id": "Z7HZUUSgB1vi",
    "outputId": "9fae4c49-5f0c-4f23-d7a1-96098c2cc9a5"
   },
   "outputs": [],
   "source": [
    "# For google drive\n",
    "\n",
    "#from google.colab import drive\n",
    "#from google.colab import files\n",
    "\n",
    "#drive.mount('/content/drive')\n",
    "#data_dir = \"/content/drive/My Drive/FYP/midland/\""
   ]
  },
  {
   "cell_type": "code",
   "execution_count": 4,
   "metadata": {},
   "outputs": [],
   "source": [
    "# For local directory\n",
    "data_dir = \"./midland/\""
   ]
  },
  {
   "cell_type": "code",
   "execution_count": 5,
   "metadata": {
    "executionInfo": {
     "elapsed": 1158,
     "status": "ok",
     "timestamp": 1610554649563,
     "user": {
      "displayName": "Kwanyoung Lee",
      "photoUrl": "",
      "userId": "17965056898907400088"
     },
     "user_tz": -480
    },
    "id": "frShzSixJVbI"
   },
   "outputs": [],
   "source": [
    "hk_island = [\n",
    "  \"Chai_wan\", \"Heng_fa_chuen\", \"Shau_kei_wan\", \"Sai_wan_ho_tai_koo\", \"Quarry_bay\", \"North_point_fortress_hill\", \n",
    "  \"Braemar_hill_north_point_mid_level\", \"Jardines_lookout_tai_hang\", \"Happy_valley_mid_level_east\", \"Wan_chai_causeway_bay\", \n",
    "  \"Tin_hau\", \"Central_mid_level_admiralty\", \"Sheung_wan_central\", \"Hong_kong_west\", \"Western_mid_levels\", \"The_peak\", \n",
    "  \"Residence_bel_air_pokfulam\", \"Ap_lei_chau\", \"Aberdeen_wong_chuk_hang\", \"Repulse_bay_shou_son_hill\", \"Tai_tam_shek_o\", \"Stanley\"\n",
    "]\n",
    "\n",
    "kowloon = [\n",
    "  \"Tsim_sha_tsui\", \"Kowloon_station\", \"Yau_ma_tei\", \"Kingspark\", \"Mongkok\", \"Tai_kok_tsui\", \"Olympic\", \"Lai_chi_kok\", \"Mei_foo\", \n",
    "  \"Cheung_sha_wan_sham_shui_po\", \"Yau_yat_tsuen\", \"Kowloon_tong_beacon_hill\", \"Ho_man_tin\", \"Hung_hum\", \"To_kwa_wan\", \"Kai_tak\", \n",
    "  \"Kowloon_city\", \"Wong_tai_sin_lok_fu\", \"Diamond_hill_san_po_kong_ngau_chi_wan\", \"Kowloon_bay\", \"Kwun_tong\", \"Lam_tin_yau_tong\", \n",
    "  \"Lohas_park\", \"Tiu_keng_leng\", \"Hang_hau\", \"Po_lam_tseung_kwan_o_station\"\n",
    "]\n",
    "\n",
    "new_territory = [\n",
    "  \"Sai_kung_clear_water_bay\", \"Shatin\", \"Kau_to_shan_fotan\", \"Ma_on_shan\", \"Tai_po\", \"North\", \"Sheung_shui_fanling\", \"Hung_shui_kiu\", \n",
    "  \"Fairview_palm_springs_the_vineyard\", \"Tin_shui_wai\", \"Yuen_long\", \"Tuen_mun\", \"Tsuen_wan\", \"Sham_tseng\", \"Ma_wan\", \"Kwai_chung\", \n",
    "  \"Tsing_yi\", \"Discovery_bay\", \"Tung_chung\", \"Lan_tau_island\"\n",
    "]\n"
   ]
  },
  {
   "cell_type": "code",
   "execution_count": null,
   "metadata": {
    "executionInfo": {
     "elapsed": 7369,
     "status": "ok",
     "timestamp": 1610559649693,
     "user": {
      "displayName": "Kwanyoung Lee",
      "photoUrl": "",
      "userId": "17965056898907400088"
     },
     "user_tz": -480
    },
    "id": "44KX7iaFCNoQ"
   },
   "outputs": [],
   "source": [
    "# Data directory\n",
    "dir_hk_island = \"./hk_island/\"\n",
    "dir_kowloon = \"./kowloon/\"\n",
    "dir_new_territory = \"./new_territory/\"\n",
    "\n",
    "def get_data_by_region(region_name, disctrict_dir):\n",
    "\n",
    "  region_df = pd.DataFrame()\n",
    "  for region in region_name:\n",
    "    new_df = pd.read_csv(data_dir+disctrict_dir+region+\".csv\")\n",
    "    region_df = pd.concat([region_df, new_df], axis=0)\n",
    "\n",
    "  # Data cleaning\n",
    "  region_df = region_df.drop(region_df.columns[0], axis=1)\n",
    "\n",
    "  region_df['tx_date'] = pd.to_datetime(region_df['tx_date'], dayfirst=True)\n",
    "  region_df['first_op_date'] = pd.to_datetime(region_df['first_op_date'], dayfirst=True)\n",
    "  region_df['last_tx_date'] = pd.to_datetime(region_df['last_tx_date'], dayfirst=True)\n",
    "\n",
    "  region_df['floor'] = region_df['floor'].replace(\"-\", np.nan)\n",
    "  region_df['flat'] = region_df['flat'].replace(\"-\", np.nan)\n",
    "\n",
    "  region_df['area'] = region_df['area'].replace(0, np.nan)\n",
    "  region_df['net_area'] = region_df['net_area'].replace(0, np.nan)\n",
    "  region_df['last_price'] = region_df['last_price'].replace(0, np.nan)\n",
    "  region_df['floor'] = region_df['floor'].astype('str') \n",
    "  region_df = region_df[~region_df['floor'].str.contains(\"&\") == True]\n",
    "  region_df['floor'] = region_df['floor'].replace(\"G\", 0).replace(\"LG\", 0).replace(\"LG1\", 0)\n",
    "  region_df['floor'] = region_df['floor'].apply(pd.to_numeric, errors = 'coerce')\n",
    "\n",
    "  region_df.sort_values(by=['tx_date'], inplace=True, ascending=False)\n",
    "\n",
    "  region_df = region_df.reset_index()\n",
    "  region_df = region_df.drop(['index'], axis=1)\n",
    "\n",
    "  region_df.columns = ['region', 'subregion', 'district', 'estate', 'building', 'firstOpDate',\n",
    "                      'floorL', 'bedroom', 'sittingroom', 'floor', 'flat', 'grossArea', 'saleableArea',\n",
    "                      'price', 'regDate', 'lastRegDate', 'lastPrice', 'gain', 'lat', 'lon']\n",
    "  return region_df\n",
    "\n",
    "# Get data by region\n",
    "data_df_hk_island = get_data_by_region(hk_island, dir_hk_island)\n",
    "data_df_kowloon = get_data_by_region(kowloon, dir_kowloon)\n",
    "data_df_new_territory = get_data_by_region(new_territory, dir_new_territory)\n",
    "\n",
    "# Get all region data\n",
    "data_df_all = pd.concat([data_df_hk_island, data_df_kowloon, data_df_new_territory], axis=0)\n",
    "data_df_all.sort_values(by=['regDate'], inplace=True, ascending=False)\n",
    "data_df_all = data_df_all.reset_index()\n",
    "data_df_all = data_df_all.drop(['index'], axis=1)"
   ]
  },
  {
   "cell_type": "markdown",
   "metadata": {
    "id": "JofErm7uybat"
   },
   "source": [
    "**House price Distribution over different regions**"
   ]
  },
  {
   "cell_type": "code",
   "execution_count": null,
   "metadata": {
    "colab": {
     "base_uri": "https://localhost:8080/"
    },
    "executionInfo": {
     "elapsed": 1082,
     "status": "ok",
     "timestamp": 1610559021757,
     "user": {
      "displayName": "Kwanyoung Lee",
      "photoUrl": "",
      "userId": "17965056898907400088"
     },
     "user_tz": -480
    },
    "id": "b2QWJqqPxcRx",
    "outputId": "8ef313b5-e942-4ac4-d0f8-b8e17938bc9c"
   },
   "outputs": [],
   "source": [
    "# Price distribution\n",
    "price_hk_island = data_df_hk_island['price'] / 1000000\n",
    "price_kowloon = data_df_kowloon['price'] / 1000000\n",
    "price_new_territory = data_df_new_territory['price'] / 1000000\n",
    "\n",
    "print(\"Price distribution in HK Island (million HKD):\")\n",
    "print(price_hk_island.describe())\n",
    "print(\"\\nPrice distribution in Kowloon (million HKD):\")\n",
    "print(price_kowloon.describe())\n",
    "print(\"\\nPrice distribution in New Territory (million HKD):\")\n",
    "print(price_new_territory.describe())"
   ]
  },
  {
   "cell_type": "markdown",
   "metadata": {
    "id": "ydN0h1VMwuGt"
   },
   "source": [
    "**Feature Engineering**"
   ]
  },
  {
   "cell_type": "code",
   "execution_count": null,
   "metadata": {
    "executionInfo": {
     "elapsed": 1511,
     "status": "ok",
     "timestamp": 1610559586087,
     "user": {
      "displayName": "Kwanyoung Lee",
      "photoUrl": "",
      "userId": "17965056898907400088"
     },
     "user_tz": -480
    },
    "id": "RZp655t-jVU3"
   },
   "outputs": [],
   "source": [
    "def removeOutlier(outliers_removed_df, col):\n",
    "  # Calculate mean and standard deviation\n",
    "  data_mean, data_std = np.mean(outliers_removed_df[col]), np.std(outliers_removed_df[col])\n",
    "  # Calculate upper boundary\n",
    "  upper = data_mean + data_std * 3\n",
    "\n",
    "  # Remove outliers\n",
    "  outliers_removed_df = outliers_removed_df[outliers_removed_df[col] < upper]\n",
    "\n",
    "  return outliers_removed_df"
   ]
  },
  {
   "cell_type": "code",
   "execution_count": null,
   "metadata": {
    "executionInfo": {
     "elapsed": 1662,
     "status": "ok",
     "timestamp": 1610559793755,
     "user": {
      "displayName": "Kwanyoung Lee",
      "photoUrl": "",
      "userId": "17965056898907400088"
     },
     "user_tz": -480
    },
    "id": "PQz04-1TwNZt"
   },
   "outputs": [],
   "source": [
    "def feature_engineering(processed_df):\n",
    "  # Make new features\n",
    "  processed_df['buildingAge'] = pd.to_datetime(\"today\").year - pd.DatetimeIndex(processed_df['firstOpDate']).year\n",
    "  processed_df['month'] = pd.to_datetime(processed_df['regDate']).dt.month\n",
    "  processed_df['year'] = pd.to_datetime(processed_df['regDate']).dt.year\n",
    "  processed_df['monthYear'] = pd.to_datetime(processed_df['regDate']).dt.to_period('M')\n",
    "\n",
    "  # Drop unneccessary columns and columns with too many missing values\n",
    "  processed_df = processed_df.drop(['firstOpDate', 'lastRegDate', 'sittingroom'], axis=1) \n",
    "\n",
    "  # Fill missing values with 0\n",
    "  processed_df['floorL'] = processed_df['floorL'].fillna('Unknown')\n",
    "  processed_df['lat'] = processed_df['lat'].fillna(0)\n",
    "  processed_df['lon'] = processed_df['lon'].fillna(0)\n",
    "\n",
    "  # Fill missing values wiith mean values\n",
    "  bedroom_mean = processed_df['bedroom'].mean()\n",
    "  processed_df['bedroom'] = processed_df['bedroom'].fillna(bedroom_mean)\n",
    "  processed_df['bedroom'] = processed_df['bedroom'].astype(int)\n",
    "\n",
    "  saleableArea_mean = processed_df['grossArea'].mean()\n",
    "  processed_df['grossArea'] = processed_df['grossArea'].fillna(saleableArea_mean)\n",
    "\n",
    "  saleableArea_mean = processed_df['saleableArea'].mean()\n",
    "  processed_df['saleableArea'] = processed_df['saleableArea'].fillna(saleableArea_mean)\n",
    "\n",
    "  saleableArea_mean = processed_df['lastPrice'].mean()\n",
    "  processed_df['lastPrice'] = processed_df['lastPrice'].fillna(saleableArea_mean)\n",
    "\n",
    "  buildingAge_mean = processed_df['buildingAge'].mean()\n",
    "  processed_df['buildingAge'] = processed_df['buildingAge'].fillna(buildingAge_mean)\n",
    "  processed_df['buildingAge'] = processed_df['buildingAge'].astype(int)\n",
    "\n",
    "  floor_mean = processed_df['floor'].mean()\n",
    "  processed_df['floor'] = processed_df['floor'].fillna(floor_mean)\n",
    "  processed_df['floor'] = processed_df['floor'].astype(int)\n",
    "\n",
    "  # Remove outliers\n",
    "  #processed_df = removeOutlier(processed_df, 'price')\n",
    "  #processed_df = removeOutlier(processed_df, 'grossArea')\n",
    "  #processed_df = removeOutlier(processed_df, 'saleableArea')\n",
    "\n",
    "  return processed_df\n",
    "\n",
    "processed_df_all = feature_engineering(data_df_all)\n",
    "processed_df_hk_island = feature_engineering(data_df_hk_island)\n",
    "processed_df_kowloon = feature_engineering(data_df_kowloon)\n",
    "processed_df_new_territory = feature_engineering(data_df_new_territory)"
   ]
  },
  {
   "cell_type": "code",
   "execution_count": null,
   "metadata": {
    "executionInfo": {
     "elapsed": 3411,
     "status": "ok",
     "timestamp": 1610559800525,
     "user": {
      "displayName": "Kwanyoung Lee",
      "photoUrl": "",
      "userId": "17965056898907400088"
     },
     "user_tz": -480
    },
    "id": "bfgPEUzB0cyC"
   },
   "outputs": [],
   "source": [
    "def label_encoding(processed_df):\n",
    "  cols = ('region', 'subregion', 'district', 'estate', 'building', \n",
    "          'floorL', 'flat', 'monthYear')\n",
    "  for col in cols:\n",
    "      le = LabelEncoder() \n",
    "      le.fit(list(processed_df[col].values)) \n",
    "      processed_df[col] = le.transform(list(processed_df[col].values))\n",
    "\n",
    "  return processed_df\n",
    "\n",
    "processed_df_hk_island = label_encoding(processed_df_hk_island)\n",
    "processed_df_kowloon = label_encoding(processed_df_kowloon)\n",
    "processed_df_new_territory = label_encoding(processed_df_new_territory)"
   ]
  },
  {
   "cell_type": "markdown",
   "metadata": {
    "id": "mGRl5G8-w367"
   },
   "source": [
    "**House price distribution over different regions**"
   ]
  },
  {
   "cell_type": "code",
   "execution_count": null,
   "metadata": {
    "colab": {
     "base_uri": "https://localhost:8080/",
     "height": 512
    },
    "executionInfo": {
     "elapsed": 1254,
     "status": "ok",
     "timestamp": 1610559301636,
     "user": {
      "displayName": "Kwanyoung Lee",
      "photoUrl": "",
      "userId": "17965056898907400088"
     },
     "user_tz": -480
    },
    "id": "EZrSrYDBw6wl",
    "outputId": "103c2aec-b07a-4b69-e180-d994aec8705e"
   },
   "outputs": [],
   "source": [
    "#box plot overallqual/saleprice\n",
    "var = 'region'\n",
    "data = pd.concat([processed_df_all['price'], processed_df_all[var]], axis=1)\n",
    "plt.subplots(figsize=(15, 7))\n",
    "fig = sns.boxplot(x=var, y=\"price\", data=data)\n",
    "fig.set_xticklabels(fig.get_xticklabels(), rotation=45,\n",
    "                  horizontalalignment='right',\n",
    "                  fontsize='medium'\n",
    "                 )\n",
    "fig.axis(ymin=0);"
   ]
  },
  {
   "cell_type": "markdown",
   "metadata": {
    "id": "Pg6CYplYwx7P"
   },
   "source": [
    "**House price distribution over different districts**"
   ]
  },
  {
   "cell_type": "code",
   "execution_count": null,
   "metadata": {
    "colab": {
     "base_uri": "https://localhost:8080/",
     "height": 766
    },
    "executionInfo": {
     "elapsed": 4442,
     "status": "ok",
     "timestamp": 1610560277720,
     "user": {
      "displayName": "Kwanyoung Lee",
      "photoUrl": "",
      "userId": "17965056898907400088"
     },
     "user_tz": -480
    },
    "id": "g7KhTR_x9RnD",
    "outputId": "6e6ad068-a3db-4a7d-e7e5-768fe6b48cc4"
   },
   "outputs": [],
   "source": [
    "#box plot overallqual/saleprice\n",
    "var = 'district'\n",
    "data = pd.concat([processed_df_all['price'], processed_df_all[var]], axis=1)\n",
    "plt.subplots(figsize=(20, 10))\n",
    "fig = sns.boxplot(x=var, y=\"price\", data=data)\n",
    "fig.set_xticklabels(fig.get_xticklabels(), rotation=45,\n",
    "                  horizontalalignment='right',\n",
    "                  fontsize='medium'\n",
    "                 )\n",
    "fig.axis(ymin=0);"
   ]
  },
  {
   "cell_type": "markdown",
   "metadata": {
    "id": "Rgf5csS-zMM6"
   },
   "source": [
    "**Correlation Matrix and Heatmap**"
   ]
  },
  {
   "cell_type": "markdown",
   "metadata": {
    "id": "xC1-5JQyzPCQ"
   },
   "source": [
    "**HK Island**"
   ]
  },
  {
   "cell_type": "code",
   "execution_count": null,
   "metadata": {
    "colab": {
     "base_uri": "https://localhost:8080/",
     "height": 850
    },
    "executionInfo": {
     "elapsed": 3379,
     "status": "ok",
     "timestamp": 1610559807213,
     "user": {
      "displayName": "Kwanyoung Lee",
      "photoUrl": "",
      "userId": "17965056898907400088"
     },
     "user_tz": -480
    },
    "id": "eLEDiOmXzSQ_",
    "outputId": "ca978312-bd9c-4489-b641-938ec42d8f52"
   },
   "outputs": [],
   "source": [
    "df = processed_df_hk_island.copy()\n",
    "corrmat = df.corr()\n",
    "\n",
    "k = 20\n",
    "fig, ax = plt.subplots(figsize=(15,15)) \n",
    "cols = corrmat.nlargest(k, 'price')['price'].index\n",
    "cm = np.corrcoef(df[cols].values.T)\n",
    "hm = sns.heatmap(cm, cbar=True, annot=True, square=True, fmt='.2f', annot_kws={'size': 10}, yticklabels=cols.values, xticklabels=cols.values)\n",
    "plt.show()"
   ]
  },
  {
   "cell_type": "code",
   "execution_count": null,
   "metadata": {
    "colab": {
     "base_uri": "https://localhost:8080/",
     "height": 503
    },
    "executionInfo": {
     "elapsed": 1801,
     "status": "ok",
     "timestamp": 1610559916075,
     "user": {
      "displayName": "Kwanyoung Lee",
      "photoUrl": "",
      "userId": "17965056898907400088"
     },
     "user_tz": -480
    },
    "id": "VnfkF-112ZaH",
    "outputId": "28d86fe4-1944-4d54-b821-27613a633d00"
   },
   "outputs": [],
   "source": [
    "top_7_df = processed_df_hk_island.copy()\n",
    "\n",
    "top_7_df = top_7_df.drop(['year', 'building', 'lat', 'lon', 'month', 'estate', 'monthYear', 'gain', 'year', 'floorL', 'district', 'subregion', 'regDate'], axis=1) \n",
    "\n",
    "corrmat = top_7_df.corr()\n",
    "\n",
    "k = 8\n",
    "fig, ax = plt.subplots(figsize=(8,8)) \n",
    "cols = corrmat.nlargest(k, 'price')['price'].index\n",
    "cm = np.corrcoef(top_7_df[cols].values.T)\n",
    "hm = sns.heatmap(cm, cbar=True, annot=True, square=True, fmt='.2f', annot_kws={'size': 10}, yticklabels=cols.values, xticklabels=cols.values)\n",
    "plt.show()"
   ]
  },
  {
   "cell_type": "markdown",
   "metadata": {
    "id": "hH7fMf1h08mm"
   },
   "source": [
    "**Kowloon**"
   ]
  },
  {
   "cell_type": "code",
   "execution_count": null,
   "metadata": {
    "colab": {
     "base_uri": "https://localhost:8080/",
     "height": 850
    },
    "executionInfo": {
     "elapsed": 3701,
     "status": "ok",
     "timestamp": 1610559810704,
     "user": {
      "displayName": "Kwanyoung Lee",
      "photoUrl": "",
      "userId": "17965056898907400088"
     },
     "user_tz": -480
    },
    "id": "bWYUABYm0yQN",
    "outputId": "6ed5f4fd-e7ec-4b55-bddf-b4212468b7bc"
   },
   "outputs": [],
   "source": [
    "df = processed_df_kowloon.copy()\n",
    "corrmat = df.corr()\n",
    "\n",
    "k = 20\n",
    "fig, ax = plt.subplots(figsize=(15,15)) \n",
    "cols = corrmat.nlargest(k, 'price')['price'].index\n",
    "cm = np.corrcoef(df[cols].values.T)\n",
    "hm = sns.heatmap(cm, cbar=True, annot=True, square=True, fmt='.2f', annot_kws={'size': 10}, yticklabels=cols.values, xticklabels=cols.values)\n",
    "plt.show()"
   ]
  },
  {
   "cell_type": "code",
   "execution_count": null,
   "metadata": {
    "colab": {
     "base_uri": "https://localhost:8080/",
     "height": 503
    },
    "executionInfo": {
     "elapsed": 1605,
     "status": "ok",
     "timestamp": 1610560005061,
     "user": {
      "displayName": "Kwanyoung Lee",
      "photoUrl": "",
      "userId": "17965056898907400088"
     },
     "user_tz": -480
    },
    "id": "PkDyyUr-2iYL",
    "outputId": "e583d498-32a5-4b99-ef29-d4b09feec526"
   },
   "outputs": [],
   "source": [
    "top_7_df = processed_df_kowloon.copy()\n",
    "\n",
    "top_7_df = top_7_df.drop(['year', 'flat', 'lat', 'lon', 'month', 'estate', 'monthYear', 'gain', 'year', 'floorL', 'district', 'subregion', 'regDate'], axis=1) \n",
    "\n",
    "corrmat = top_7_df.corr()\n",
    "\n",
    "k = 8\n",
    "fig, ax = plt.subplots(figsize=(8,8)) \n",
    "cols = corrmat.nlargest(k, 'price')['price'].index\n",
    "cm = np.corrcoef(top_7_df[cols].values.T)\n",
    "hm = sns.heatmap(cm, cbar=True, annot=True, square=True, fmt='.2f', annot_kws={'size': 10}, yticklabels=cols.values, xticklabels=cols.values)\n",
    "plt.show()"
   ]
  },
  {
   "cell_type": "markdown",
   "metadata": {
    "id": "0PP7Sy_q39Uv"
   },
   "source": [
    "**New Territory**"
   ]
  },
  {
   "cell_type": "code",
   "execution_count": null,
   "metadata": {
    "colab": {
     "base_uri": "https://localhost:8080/",
     "height": 850
    },
    "executionInfo": {
     "elapsed": 3538,
     "status": "ok",
     "timestamp": 1610559817109,
     "user": {
      "displayName": "Kwanyoung Lee",
      "photoUrl": "",
      "userId": "17965056898907400088"
     },
     "user_tz": -480
    },
    "id": "gc2aSowU1ATO",
    "outputId": "39a595fe-a992-4116-f2c7-71d9adcb2398"
   },
   "outputs": [],
   "source": [
    "df = processed_df_new_territory.copy()\n",
    "corrmat = df.corr()\n",
    "\n",
    "k = 20\n",
    "fig, ax = plt.subplots(figsize=(15,15)) \n",
    "cols = corrmat.nlargest(k, 'price')['price'].index\n",
    "cm = np.corrcoef(df[cols].values.T)\n",
    "hm = sns.heatmap(cm, cbar=True, annot=True, square=True, fmt='.2f', annot_kws={'size': 10}, yticklabels=cols.values, xticklabels=cols.values)\n",
    "plt.show()"
   ]
  },
  {
   "cell_type": "code",
   "execution_count": null,
   "metadata": {
    "colab": {
     "base_uri": "https://localhost:8080/",
     "height": 503
    },
    "executionInfo": {
     "elapsed": 2407,
     "status": "ok",
     "timestamp": 1610560153130,
     "user": {
      "displayName": "Kwanyoung Lee",
      "photoUrl": "",
      "userId": "17965056898907400088"
     },
     "user_tz": -480
    },
    "id": "13wnIqZh25EE",
    "outputId": "bfba7e49-d164-4797-9c28-6d6db526e0c8"
   },
   "outputs": [],
   "source": [
    "top_7_df = processed_df_new_territory.copy()\n",
    "\n",
    "top_7_df = top_7_df.drop(['year', 'building', 'lat', 'lon', 'month', 'estate', 'monthYear', 'gain', 'year', 'floorL', 'district', 'subregion', 'regDate'], axis=1) \n",
    "\n",
    "corrmat = top_7_df.corr()\n",
    "\n",
    "k = 8\n",
    "fig, ax = plt.subplots(figsize=(8,8)) \n",
    "cols = corrmat.nlargest(k, 'price')['price'].index\n",
    "cm = np.corrcoef(top_7_df[cols].values.T)\n",
    "hm = sns.heatmap(cm, cbar=True, annot=True, square=True, fmt='.2f', annot_kws={'size': 10}, yticklabels=cols.values, xticklabels=cols.values)\n",
    "plt.show()"
   ]
  }
 ],
 "metadata": {
  "colab": {
   "authorship_tag": "ABX9TyPYNOvx9qM2d3Qm1wjsBJMQ",
   "collapsed_sections": [],
   "name": "EDA over regions.ipynb",
   "provenance": []
  },
  "kernelspec": {
   "display_name": "Python 3",
   "language": "python",
   "name": "python3"
  },
  "language_info": {
   "codemirror_mode": {
    "name": "ipython",
    "version": 3
   },
   "file_extension": ".py",
   "mimetype": "text/x-python",
   "name": "python",
   "nbconvert_exporter": "python",
   "pygments_lexer": "ipython3",
   "version": "3.7.4"
  }
 },
 "nbformat": 4,
 "nbformat_minor": 1
}
