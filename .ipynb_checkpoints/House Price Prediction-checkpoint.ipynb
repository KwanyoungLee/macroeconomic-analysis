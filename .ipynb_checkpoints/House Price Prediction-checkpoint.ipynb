{
 "cells": [
  {
   "cell_type": "markdown",
   "metadata": {
    "id": "3VU0v2CZBkP9"
   },
   "source": [
    "**Install libraries**"
   ]
  },
  {
   "cell_type": "code",
   "execution_count": 4,
   "metadata": {
    "id": "J9KQ3JvFBjWo"
   },
   "outputs": [],
   "source": [
    "#!pip3 install pandas\n",
    "#!pip3 install scikit-learn\n",
    "#!pip install xgboost"
   ]
  },
  {
   "cell_type": "markdown",
   "metadata": {
    "id": "8c5-bYw327zT"
   },
   "source": [
    "**Import libraries**"
   ]
  },
  {
   "cell_type": "code",
   "execution_count": 5,
   "metadata": {
    "executionInfo": {
     "elapsed": 2445,
     "status": "ok",
     "timestamp": 1610545445477,
     "user": {
      "displayName": "Kwanyoung Lee",
      "photoUrl": "",
      "userId": "17965056898907400088"
     },
     "user_tz": -480
    },
    "id": "JIhhSMzg27C4"
   },
   "outputs": [
    {
     "ename": "XGBoostError",
     "evalue": "XGBoost Library (libxgboost.dylib) could not be loaded.\nLikely causes:\n  * OpenMP runtime is not installed (vcomp140.dll or libgomp-1.dll for Windows, libomp.dylib for Mac OSX, libgomp.so for Linux and other UNIX-like OSes). Mac OSX users: Run `brew install libomp` to install OpenMP runtime.\n  * You are running 32-bit Python on a 64-bit OS\nError message(s): ['dlopen(/opt/anaconda3/lib/python3.7/site-packages/xgboost/lib/libxgboost.dylib, 6): Library not loaded: /usr/local/opt/libomp/lib/libomp.dylib\\n  Referenced from: /opt/anaconda3/lib/python3.7/site-packages/xgboost/lib/libxgboost.dylib\\n  Reason: image not found']\n",
     "output_type": "error",
     "traceback": [
      "\u001b[0;31m---------------------------------------------------------------------------\u001b[0m",
      "\u001b[0;31mXGBoostError\u001b[0m                              Traceback (most recent call last)",
      "\u001b[0;32m<ipython-input-5-64fe4f40a38a>\u001b[0m in \u001b[0;36m<module>\u001b[0;34m\u001b[0m\n\u001b[1;32m     12\u001b[0m \u001b[0;32mfrom\u001b[0m \u001b[0msklearn\u001b[0m\u001b[0;34m.\u001b[0m\u001b[0mensemble\u001b[0m \u001b[0;32mimport\u001b[0m \u001b[0mRandomForestRegressor\u001b[0m\u001b[0;34m\u001b[0m\u001b[0;34m\u001b[0m\u001b[0m\n\u001b[1;32m     13\u001b[0m \u001b[0;32mfrom\u001b[0m \u001b[0msklearn\u001b[0m\u001b[0;34m.\u001b[0m\u001b[0mlinear_model\u001b[0m \u001b[0;32mimport\u001b[0m \u001b[0mLinearRegression\u001b[0m\u001b[0;34m\u001b[0m\u001b[0;34m\u001b[0m\u001b[0m\n\u001b[0;32m---> 14\u001b[0;31m \u001b[0;32mimport\u001b[0m \u001b[0mxgboost\u001b[0m \u001b[0;32mas\u001b[0m \u001b[0mxgb\u001b[0m\u001b[0;34m\u001b[0m\u001b[0;34m\u001b[0m\u001b[0m\n\u001b[0m\u001b[1;32m     15\u001b[0m \u001b[0;32mfrom\u001b[0m \u001b[0msklearn\u001b[0m\u001b[0;34m.\u001b[0m\u001b[0mlinear_model\u001b[0m \u001b[0;32mimport\u001b[0m \u001b[0mLasso\u001b[0m\u001b[0;34m\u001b[0m\u001b[0;34m\u001b[0m\u001b[0m\n\u001b[1;32m     16\u001b[0m \u001b[0;32mfrom\u001b[0m \u001b[0mscipy\u001b[0m \u001b[0;32mimport\u001b[0m \u001b[0mstats\u001b[0m\u001b[0;34m\u001b[0m\u001b[0;34m\u001b[0m\u001b[0m\n",
      "\u001b[0;32m/opt/anaconda3/lib/python3.7/site-packages/xgboost/__init__.py\u001b[0m in \u001b[0;36m<module>\u001b[0;34m\u001b[0m\n\u001b[1;32m      7\u001b[0m \u001b[0;32mimport\u001b[0m \u001b[0mos\u001b[0m\u001b[0;34m\u001b[0m\u001b[0;34m\u001b[0m\u001b[0m\n\u001b[1;32m      8\u001b[0m \u001b[0;34m\u001b[0m\u001b[0m\n\u001b[0;32m----> 9\u001b[0;31m \u001b[0;32mfrom\u001b[0m \u001b[0;34m.\u001b[0m\u001b[0mcore\u001b[0m \u001b[0;32mimport\u001b[0m \u001b[0mDMatrix\u001b[0m\u001b[0;34m,\u001b[0m \u001b[0mDeviceQuantileDMatrix\u001b[0m\u001b[0;34m,\u001b[0m \u001b[0mBooster\u001b[0m\u001b[0;34m\u001b[0m\u001b[0;34m\u001b[0m\u001b[0m\n\u001b[0m\u001b[1;32m     10\u001b[0m \u001b[0;32mfrom\u001b[0m \u001b[0;34m.\u001b[0m\u001b[0mtraining\u001b[0m \u001b[0;32mimport\u001b[0m \u001b[0mtrain\u001b[0m\u001b[0;34m,\u001b[0m \u001b[0mcv\u001b[0m\u001b[0;34m\u001b[0m\u001b[0;34m\u001b[0m\u001b[0m\n\u001b[1;32m     11\u001b[0m \u001b[0;32mfrom\u001b[0m \u001b[0;34m.\u001b[0m \u001b[0;32mimport\u001b[0m \u001b[0mrabit\u001b[0m  \u001b[0;31m# noqa\u001b[0m\u001b[0;34m\u001b[0m\u001b[0;34m\u001b[0m\u001b[0m\n",
      "\u001b[0;32m/opt/anaconda3/lib/python3.7/site-packages/xgboost/core.py\u001b[0m in \u001b[0;36m<module>\u001b[0;34m\u001b[0m\n\u001b[1;32m    172\u001b[0m \u001b[0;34m\u001b[0m\u001b[0m\n\u001b[1;32m    173\u001b[0m \u001b[0;31m# load the XGBoost library globally\u001b[0m\u001b[0;34m\u001b[0m\u001b[0;34m\u001b[0m\u001b[0;34m\u001b[0m\u001b[0m\n\u001b[0;32m--> 174\u001b[0;31m \u001b[0m_LIB\u001b[0m \u001b[0;34m=\u001b[0m \u001b[0m_load_lib\u001b[0m\u001b[0;34m(\u001b[0m\u001b[0;34m)\u001b[0m\u001b[0;34m\u001b[0m\u001b[0;34m\u001b[0m\u001b[0m\n\u001b[0m\u001b[1;32m    175\u001b[0m \u001b[0;34m\u001b[0m\u001b[0m\n\u001b[1;32m    176\u001b[0m \u001b[0;34m\u001b[0m\u001b[0m\n",
      "\u001b[0;32m/opt/anaconda3/lib/python3.7/site-packages/xgboost/core.py\u001b[0m in \u001b[0;36m_load_lib\u001b[0;34m()\u001b[0m\n\u001b[1;32m    163\u001b[0m             \u001b[0;34m'`brew install libomp` to install OpenMP runtime.\\n'\u001b[0m \u001b[0;34m+\u001b[0m\u001b[0;34m\u001b[0m\u001b[0;34m\u001b[0m\u001b[0m\n\u001b[1;32m    164\u001b[0m             \u001b[0;34m'  * You are running 32-bit Python on a 64-bit OS\\n'\u001b[0m \u001b[0;34m+\u001b[0m\u001b[0;34m\u001b[0m\u001b[0;34m\u001b[0m\u001b[0m\n\u001b[0;32m--> 165\u001b[0;31m             'Error message(s): {}\\n'.format(os_error_list))\n\u001b[0m\u001b[1;32m    166\u001b[0m     \u001b[0mlib\u001b[0m\u001b[0;34m.\u001b[0m\u001b[0mXGBGetLastError\u001b[0m\u001b[0;34m.\u001b[0m\u001b[0mrestype\u001b[0m \u001b[0;34m=\u001b[0m \u001b[0mctypes\u001b[0m\u001b[0;34m.\u001b[0m\u001b[0mc_char_p\u001b[0m\u001b[0;34m\u001b[0m\u001b[0;34m\u001b[0m\u001b[0m\n\u001b[1;32m    167\u001b[0m     \u001b[0mlib\u001b[0m\u001b[0;34m.\u001b[0m\u001b[0mcallback\u001b[0m \u001b[0;34m=\u001b[0m \u001b[0m_get_log_callback_func\u001b[0m\u001b[0;34m(\u001b[0m\u001b[0;34m)\u001b[0m\u001b[0;34m\u001b[0m\u001b[0;34m\u001b[0m\u001b[0m\n",
      "\u001b[0;31mXGBoostError\u001b[0m: XGBoost Library (libxgboost.dylib) could not be loaded.\nLikely causes:\n  * OpenMP runtime is not installed (vcomp140.dll or libgomp-1.dll for Windows, libomp.dylib for Mac OSX, libgomp.so for Linux and other UNIX-like OSes). Mac OSX users: Run `brew install libomp` to install OpenMP runtime.\n  * You are running 32-bit Python on a 64-bit OS\nError message(s): ['dlopen(/opt/anaconda3/lib/python3.7/site-packages/xgboost/lib/libxgboost.dylib, 6): Library not loaded: /usr/local/opt/libomp/lib/libomp.dylib\\n  Referenced from: /opt/anaconda3/lib/python3.7/site-packages/xgboost/lib/libxgboost.dylib\\n  Reason: image not found']\n"
     ]
    }
   ],
   "source": [
    "import random\n",
    "import pandas as pd\n",
    "import matplotlib.pyplot as plt\n",
    "import seaborn as sns\n",
    "import pandas as pd\n",
    "import numpy as np\n",
    "from scipy.stats import norm\n",
    "from sklearn.preprocessing import StandardScaler\n",
    "from sklearn.preprocessing import LabelEncoder\n",
    "from sklearn.metrics import mean_squared_error\n",
    "from sklearn.metrics import mean_squared_log_error\n",
    "from sklearn.ensemble import RandomForestRegressor\n",
    "from sklearn.linear_model import LinearRegression\n",
    "import xgboost as xgb\n",
    "from sklearn.linear_model import Lasso\n",
    "from scipy import stats\n",
    "import warnings\n",
    "from datetime import datetime\n",
    "warnings.filterwarnings('ignore')\n",
    "%matplotlib inline"
   ]
  },
  {
   "cell_type": "markdown",
   "metadata": {
    "id": "cZTc2fwIEeq7"
   },
   "source": [
    "# **Data Importation and Pre-processing**"
   ]
  },
  {
   "cell_type": "markdown",
   "metadata": {
    "id": "D3pLume1Byxw"
   },
   "source": [
    "**Import Data**"
   ]
  },
  {
   "cell_type": "code",
   "execution_count": null,
   "metadata": {
    "colab": {
     "base_uri": "https://localhost:8080/"
    },
    "executionInfo": {
     "elapsed": 18959,
     "status": "ok",
     "timestamp": 1610545462005,
     "user": {
      "displayName": "Kwanyoung Lee",
      "photoUrl": "",
      "userId": "17965056898907400088"
     },
     "user_tz": -480
    },
    "id": "Z7HZUUSgB1vi",
    "outputId": "fc44aba7-b363-4a7a-dc68-a72a6d5d6110"
   },
   "outputs": [],
   "source": [
    "# For google drive\n",
    "#from google.colab import drive\n",
    "#from google.colab import files\n",
    "\n",
    "#drive.mount('/content/drive')\n",
    "#data_dir = \"/content/drive/My Drive/FYP/midland/\""
   ]
  },
  {
   "cell_type": "code",
   "execution_count": null,
   "metadata": {},
   "outputs": [],
   "source": [
    "# For local directory\n",
    "data_dir = \"./midland/\""
   ]
  },
  {
   "cell_type": "code",
   "execution_count": null,
   "metadata": {
    "executionInfo": {
     "elapsed": 1090,
     "status": "ok",
     "timestamp": 1610545465637,
     "user": {
      "displayName": "Kwanyoung Lee",
      "photoUrl": "",
      "userId": "17965056898907400088"
     },
     "user_tz": -480
    },
    "id": "frShzSixJVbI"
   },
   "outputs": [],
   "source": [
    "hk_island = [\n",
    "  \"Chai_wan\", \"Heng_fa_chuen\", \"Shau_kei_wan\", \"Sai_wan_ho_tai_koo\", \"Quarry_bay\", \"North_point_fortress_hill\", \n",
    "  \"Braemar_hill_north_point_mid_level\", \"Jardines_lookout_tai_hang\", \"Happy_valley_mid_level_east\", \"Wan_chai_causeway_bay\", \n",
    "  \"Tin_hau\", \"Central_mid_level_admiralty\", \"Sheung_wan_central\", \"Hong_kong_west\", \"Western_mid_levels\", \"The_peak\", \n",
    "  \"Residence_bel_air_pokfulam\", \"Ap_lei_chau\", \"Aberdeen_wong_chuk_hang\", \"Repulse_bay_shou_son_hill\", \"Tai_tam_shek_o\", \"Stanley\"\n",
    "]\n",
    "\n",
    "kowloon = [\n",
    "  \"Tsim_sha_tsui\", \"Kowloon_station\", \"Yau_ma_tei\", \"Kingspark\", \"Mongkok\", \"Tai_kok_tsui\", \"Olympic\", \"Lai_chi_kok\", \"Mei_foo\", \n",
    "  \"Cheung_sha_wan_sham_shui_po\", \"Yau_yat_tsuen\", \"Kowloon_tong_beacon_hill\", \"Ho_man_tin\", \"Hung_hum\", \"To_kwa_wan\", \"Kai_tak\", \n",
    "  \"Kowloon_city\", \"Wong_tai_sin_lok_fu\", \"Diamond_hill_san_po_kong_ngau_chi_wan\", \"Kowloon_bay\", \"Kwun_tong\", \"Lam_tin_yau_tong\", \n",
    "  \"Lohas_park\", \"Tiu_keng_leng\", \"Hang_hau\", \"Po_lam_tseung_kwan_o_station\"\n",
    "]\n",
    "\n",
    "new_territory = [\n",
    "  \"Sai_kung_clear_water_bay\", \"Shatin\", \"Kau_to_shan_fotan\", \"Ma_on_shan\", \"Tai_po\", \"North\", \"Sheung_shui_fanling\", \"Hung_shui_kiu\", \n",
    "  \"Fairview_palm_springs_the_vineyard\", \"Tin_shui_wai\", \"Yuen_long\", \"Tuen_mun\", \"Tsuen_wan\", \"Sham_tseng\", \"Ma_wan\", \"Kwai_chung\", \n",
    "  \"Tsing_yi\", \"Discovery_bay\", \"Tung_chung\", \"Lan_tau_island\"\n",
    "]\n"
   ]
  },
  {
   "cell_type": "code",
   "execution_count": null,
   "metadata": {
    "executionInfo": {
     "elapsed": 29452,
     "status": "ok",
     "timestamp": 1610545497320,
     "user": {
      "displayName": "Kwanyoung Lee",
      "photoUrl": "",
      "userId": "17965056898907400088"
     },
     "user_tz": -480
    },
    "id": "44KX7iaFCNoQ"
   },
   "outputs": [],
   "source": [
    "# Data directory\n",
    "dir_hk_island = \"./hk_island/\"\n",
    "dir_kowloon = \"./kowloon/\"\n",
    "dir_new_territory = \"./new_territory/\"\n",
    "\n",
    "def get_data_by_region(region_name, disctrict_dir):\n",
    "\n",
    "  region_df = pd.DataFrame()\n",
    "  for region in region_name:\n",
    "    new_df = pd.read_csv(data_dir+disctrict_dir+region+\".csv\")\n",
    "    region_df = pd.concat([region_df, new_df], axis=0)\n",
    "\n",
    "  # Data cleaning\n",
    "  region_df = region_df.drop(region_df.columns[0], axis=1)\n",
    "\n",
    "  region_df['tx_date'] = pd.to_datetime(region_df['tx_date'], dayfirst=True)\n",
    "  region_df['first_op_date'] = pd.to_datetime(region_df['first_op_date'], dayfirst=True)\n",
    "  region_df['last_tx_date'] = pd.to_datetime(region_df['last_tx_date'], dayfirst=True)\n",
    "\n",
    "  region_df['floor'] = region_df['floor'].replace(\"-\", np.nan)\n",
    "  region_df['flat'] = region_df['flat'].replace(\"-\", np.nan)\n",
    "\n",
    "  region_df['area'] = region_df['area'].replace(0, np.nan)\n",
    "  region_df['net_area'] = region_df['net_area'].replace(0, np.nan)\n",
    "  region_df['last_price'] = region_df['last_price'].replace(0, np.nan)\n",
    "  region_df['floor'] = region_df['floor'].astype('str') \n",
    "  region_df = region_df[~region_df['floor'].str.contains(\"&\") == True]\n",
    "  region_df['floor'] = region_df['floor'].replace(\"G\", 0).replace(\"LG\", 0).replace(\"LG1\", 0)\n",
    "  region_df['floor'] = region_df['floor'].apply(pd.to_numeric, errors = 'coerce')\n",
    "\n",
    "  region_df.sort_values(by=['tx_date'], inplace=True, ascending=False)\n",
    "\n",
    "  region_df = region_df.reset_index()\n",
    "  region_df = region_df.drop(['index'], axis=1)\n",
    "  return region_df\n",
    "\n",
    "def download_data(filename, download_data):\n",
    "  dataFrame = pd.DataFrame(data=download_data)\n",
    "  dataFrame.to_csv(filename)\n",
    "  files.download(filename)\n",
    "\n",
    "# Get data by region\n",
    "data_df_hk_island = get_data_by_region(hk_island, dir_hk_island)\n",
    "data_df_kowloon = get_data_by_region(kowloon, dir_kowloon)\n",
    "data_df_new_territory = get_data_by_region(new_territory, dir_new_territory)\n",
    "\n",
    "# Get all region data\n",
    "data_df_all = pd.concat([data_df_hk_island, data_df_kowloon, data_df_new_territory], axis=0)\n",
    "data_df_all.sort_values(by=['tx_date'], inplace=True, ascending=False)\n",
    "data_df_all = data_df_all.reset_index()\n",
    "data_df_all = data_df_all.drop(['index'], axis=1)\n",
    "\n",
    "data_df_all.columns = ['region', 'subregion', 'district', 'estate', 'building', 'firstOpDate',\n",
    "                      'floorL', 'bedroom', 'sittingroom', 'floor', 'flat', 'grossArea', 'saleableArea',\n",
    "                      'price', 'regDate', 'lastRegDate', 'lastPrice', 'gain', 'lat', 'lon']"
   ]
  },
  {
   "cell_type": "markdown",
   "metadata": {
    "id": "3iS5hv1XbSya"
   },
   "source": [
    "**Feature Engineering**"
   ]
  },
  {
   "cell_type": "code",
   "execution_count": null,
   "metadata": {
    "executionInfo": {
     "elapsed": 1026,
     "status": "ok",
     "timestamp": 1610545742543,
     "user": {
      "displayName": "Kwanyoung Lee",
      "photoUrl": "",
      "userId": "17965056898907400088"
     },
     "user_tz": -480
    },
    "id": "8X0xsD9YAOme"
   },
   "outputs": [],
   "source": [
    "def removeOutlier(df, col):\n",
    "  # Calculate mean and standard deviation\n",
    "  data_mean, data_std = np.mean(df[col]), np.std(df[col])\n",
    "\n",
    "  # Calculate upper boundary\n",
    "  upper = data_mean + data_std * 3\n",
    "  \n",
    "  # Remove outliers\n",
    "  df = df[df[col] < upper]\n",
    "\n",
    "  return df"
   ]
  },
  {
   "cell_type": "code",
   "execution_count": null,
   "metadata": {
    "executionInfo": {
     "elapsed": 3997,
     "status": "ok",
     "timestamp": 1610545748375,
     "user": {
      "displayName": "Kwanyoung Lee",
      "photoUrl": "",
      "userId": "17965056898907400088"
     },
     "user_tz": -480
    },
    "id": "aQeqOoGQbx1a"
   },
   "outputs": [],
   "source": [
    "processed_df = data_df_all.copy()\n",
    "\n",
    "# Make new features\n",
    "processed_df['buildingAge'] = pd.to_datetime(\"today\").year - pd.DatetimeIndex(processed_df['firstOpDate']).year\n",
    "processed_df['month'] = pd.to_datetime(processed_df['regDate']).dt.month\n",
    "processed_df['year'] = pd.to_datetime(processed_df['regDate']).dt.year\n",
    "processed_df['monthYear'] = pd.to_datetime(processed_df['regDate']).dt.to_period('M')\n",
    "\n",
    "# Drop unneccessary columns and columns with too many missing values\n",
    "processed_df = processed_df.drop(['firstOpDate', 'lastRegDate', 'sittingroom'], axis=1) \n",
    "\n",
    "# Fill missing values with 0\n",
    "processed_df['floorL'] = processed_df['floorL'].fillna('Unknown')\n",
    "processed_df['lat'] = processed_df['lat'].fillna(0)\n",
    "processed_df['lon'] = processed_df['lon'].fillna(0)\n",
    "\n",
    "# Fill missing values wiith mean values\n",
    "bedroom_mean = processed_df['bedroom'].mean()\n",
    "processed_df['bedroom'] = processed_df['bedroom'].fillna(bedroom_mean)\n",
    "processed_df['bedroom'] = processed_df['bedroom'].astype(int)\n",
    "\n",
    "saleableArea_mean = processed_df['grossArea'].mean()\n",
    "processed_df['grossArea'] = processed_df['grossArea'].fillna(saleableArea_mean)\n",
    "\n",
    "saleableArea_mean = processed_df['saleableArea'].mean()\n",
    "processed_df['saleableArea'] = processed_df['saleableArea'].fillna(saleableArea_mean)\n",
    "\n",
    "saleableArea_mean = processed_df['lastPrice'].mean()\n",
    "processed_df['lastPrice'] = processed_df['lastPrice'].fillna(saleableArea_mean)\n",
    "\n",
    "buildingAge_mean = processed_df['buildingAge'].mean()\n",
    "processed_df['buildingAge'] = processed_df['buildingAge'].fillna(buildingAge_mean)\n",
    "processed_df['buildingAge'] = processed_df['buildingAge'].astype(int)\n",
    "\n",
    "floor_mean = processed_df['floor'].mean()\n",
    "processed_df['floor'] = processed_df['floor'].fillna(floor_mean)\n",
    "processed_df['floor'] = processed_df['floor'].astype(int)\n",
    "\n",
    "# Label encoding for categorical features\n",
    "cols = ('region', 'subregion', 'district', 'estate', 'building', \n",
    "        'floorL', 'flat', 'monthYear')\n",
    "for col in cols:\n",
    "    le = LabelEncoder() \n",
    "    le.fit(list(processed_df[col].values)) \n",
    "    processed_df[col] = le.transform(list(processed_df[col].values))\n",
    "\n",
    "processed_df = removeOutlier(processed_df, 'price')\n",
    "#processed_df = removeOutlier(processed_df, 'grossArea')\n",
    "#processed_df = removeOutlier(processed_df, 'saleableArea')"
   ]
  },
  {
   "cell_type": "markdown",
   "metadata": {
    "id": "muEluS_5AgSR"
   },
   "source": [
    "**Feature Selection**"
   ]
  },
  {
   "cell_type": "code",
   "execution_count": null,
   "metadata": {
    "executionInfo": {
     "elapsed": 876,
     "status": "ok",
     "timestamp": 1610546209939,
     "user": {
      "displayName": "Kwanyoung Lee",
      "photoUrl": "",
      "userId": "17965056898907400088"
     },
     "user_tz": -480
    },
    "id": "eYUeCF4P-_3O"
   },
   "outputs": [],
   "source": [
    "data_df = processed_df.copy()\n",
    "data_df = data_df.drop(['flat', 'building', 'lat', 'lon', 'month', 'estate', 'monthYear', 'gain', 'year', 'floorL', 'district', 'subregion', 'regDate'], axis=1) "
   ]
  },
  {
   "cell_type": "markdown",
   "metadata": {
    "id": "LVAUP00gEZ4u"
   },
   "source": [
    "# **Predictive Models (Preliminary results)**"
   ]
  },
  {
   "cell_type": "code",
   "execution_count": null,
   "metadata": {
    "executionInfo": {
     "elapsed": 1150,
     "status": "ok",
     "timestamp": 1610546211041,
     "user": {
      "displayName": "Kwanyoung Lee",
      "photoUrl": "",
      "userId": "17965056898907400088"
     },
     "user_tz": -480
    },
    "id": "fNgc0eWZP7Jo"
   },
   "outputs": [],
   "source": [
    "# Random seed\n",
    "RAND_SEED = 1234\n",
    "# Size of training dataset\n",
    "TRAIN_SIZE = 0.8"
   ]
  },
  {
   "cell_type": "markdown",
   "metadata": {
    "id": "1DvR3zsPBfS6"
   },
   "source": [
    "**Evaluation Metrics**"
   ]
  },
  {
   "cell_type": "code",
   "execution_count": null,
   "metadata": {
    "executionInfo": {
     "elapsed": 1175,
     "status": "ok",
     "timestamp": 1610546222711,
     "user": {
      "displayName": "Kwanyoung Lee",
      "photoUrl": "",
      "userId": "17965056898907400088"
     },
     "user_tz": -480
    },
    "id": "S0XA2DnBXrx0"
   },
   "outputs": [],
   "source": [
    "def rmse(y, y_pred):\n",
    "    return np.sqrt(mean_squared_error(np.expm1(y), np.expm1(y_pred)))\n",
    "\n",
    "def rmsle(y, y_pred):\n",
    "  return np.sqrt(mean_squared_log_error(y, y_pred))"
   ]
  },
  {
   "cell_type": "markdown",
   "metadata": {
    "id": "IYbd2xY4Amax"
   },
   "source": [
    "**Train/Test split**"
   ]
  },
  {
   "cell_type": "code",
   "execution_count": null,
   "metadata": {
    "colab": {
     "base_uri": "https://localhost:8080/"
    },
    "executionInfo": {
     "elapsed": 1359,
     "status": "ok",
     "timestamp": 1610546212578,
     "user": {
      "displayName": "Kwanyoung Lee",
      "photoUrl": "",
      "userId": "17965056898907400088"
     },
     "user_tz": -480
    },
    "id": "lT-Rsr3bPNXo",
    "outputId": "8fc3977f-fa17-4b10-a1dc-b463c55dc8f1"
   },
   "outputs": [],
   "source": [
    "all_idx = list(range(len(data_df)))\n",
    "\n",
    "random.seed(RAND_SEED)\n",
    "random.shuffle(all_idx)\n",
    "\n",
    "# Split the random indices into two portion\n",
    "p = int(len(data_df) * TRAIN_SIZE)\n",
    "train_idx = all_idx[:p]\n",
    "test_idx = all_idx[p:]\n",
    "\n",
    "# Retrieve training and test data\n",
    "train_df = data_df.iloc[train_idx]\n",
    "test_df = data_df.iloc[test_idx]\n",
    "\n",
    "# Reset index\n",
    "train_df = train_df.reset_index()\n",
    "test_df = test_df.reset_index()\n",
    "\n",
    "# Drop index column\n",
    "train_df = train_df.drop(['index'], axis=1)\n",
    "test_df = test_df.drop(['index'], axis=1)\n",
    "\n",
    "print(train_df.info())\n",
    "print(test_df.info())"
   ]
  },
  {
   "cell_type": "code",
   "execution_count": null,
   "metadata": {
    "executionInfo": {
     "elapsed": 1315,
     "status": "ok",
     "timestamp": 1610546214728,
     "user": {
      "displayName": "Kwanyoung Lee",
      "photoUrl": "",
      "userId": "17965056898907400088"
     },
     "user_tz": -480
    },
    "id": "KtuNO7esekiM"
   },
   "outputs": [],
   "source": [
    "feat_col = [ c for c in train_df.columns if c not in ['price'] ]\n",
    "x_train, y_train = train_df[feat_col], train_df['price']\n",
    "x_test, y_test  = test_df[feat_col], test_df['price']"
   ]
  },
  {
   "cell_type": "markdown",
   "metadata": {
    "id": "Gprv3WVwvHun"
   },
   "source": [
    "**Log Transformation**"
   ]
  },
  {
   "cell_type": "code",
   "execution_count": null,
   "metadata": {
    "executionInfo": {
     "elapsed": 1153,
     "status": "ok",
     "timestamp": 1610546218089,
     "user": {
      "displayName": "Kwanyoung Lee",
      "photoUrl": "",
      "userId": "17965056898907400088"
     },
     "user_tz": -480
    },
    "id": "0CH9Yo7rvJVo"
   },
   "outputs": [],
   "source": [
    "log_y_train= np.log1p(y_train)"
   ]
  },
  {
   "cell_type": "markdown",
   "metadata": {
    "id": "uXKsj0iWGXk0"
   },
   "source": [
    "**XGB**"
   ]
  },
  {
   "cell_type": "code",
   "execution_count": null,
   "metadata": {
    "colab": {
     "base_uri": "https://localhost:8080/"
    },
    "executionInfo": {
     "elapsed": 190930,
     "status": "ok",
     "timestamp": 1610551508043,
     "user": {
      "displayName": "Kwanyoung Lee",
      "photoUrl": "",
      "userId": "17965056898907400088"
     },
     "user_tz": -480
    },
    "id": "yN52riK2ZmiY",
    "outputId": "1b465a77-fd1b-47ac-ab94-88c6f5b2897b"
   },
   "outputs": [],
   "source": [
    "model_xgb = xgb.XGBRegressor(objective ='reg:squarederror', \n",
    "                       learning_rate = 0.1, max_depth = 5, alpha = 10, \n",
    "                       random_state=RAND_SEED, n_estimators = 2000)\n",
    "\n",
    "model_xgb.fit(x_train, log_y_train)\n",
    "xgb_train_pred = np.expm1(model_xgb.predict(x_train))\n",
    "xgb_test_pred = np.expm1(model_xgb.predict(x_test))\n",
    "print(\"RMSLE(train): \", rmsle(y_train, xgb_train_pred))\n",
    "print(\"RMSLE(test): \", rmsle(y_test, xgb_test_pred))"
   ]
  },
  {
   "cell_type": "code",
   "execution_count": null,
   "metadata": {
    "colab": {
     "base_uri": "https://localhost:8080/",
     "height": 345
    },
    "executionInfo": {
     "elapsed": 2118,
     "status": "ok",
     "timestamp": 1610551523010,
     "user": {
      "displayName": "Kwanyoung Lee",
      "photoUrl": "",
      "userId": "17965056898907400088"
     },
     "user_tz": -480
    },
    "id": "BQPkmgDF33t-",
    "outputId": "c886a592-fb96-4eec-a157-f8e9534835f4"
   },
   "outputs": [],
   "source": [
    "plt.figure(figsize=(5,5))\n",
    "plt.scatter(y_test,xgb_pred)\n",
    "plt.xlabel('Y Test')\n",
    "plt.ylabel('Predicted Y')\n",
    "plt.show()"
   ]
  },
  {
   "cell_type": "markdown",
   "metadata": {
    "id": "Q5bTT9cyGaYZ"
   },
   "source": [
    "**Random Forest**"
   ]
  },
  {
   "cell_type": "code",
   "execution_count": null,
   "metadata": {
    "colab": {
     "base_uri": "https://localhost:8080/"
    },
    "executionInfo": {
     "elapsed": 128711,
     "status": "ok",
     "timestamp": 1610546521720,
     "user": {
      "displayName": "Kwanyoung Lee",
      "photoUrl": "",
      "userId": "17965056898907400088"
     },
     "user_tz": -480
    },
    "id": "I8fSG4kHela_",
    "outputId": "eeb80e11-03a8-4449-841e-18451e0bfb17"
   },
   "outputs": [],
   "source": [
    "model_rf = RandomForestRegressor(n_estimators = 100, max_depth=3, bootstrap=True, min_samples_leaf=25)\n",
    "model_rf.fit(x_train, log_y_train)\n",
    "rf_train_pred = np.expm1(model_rf.predict(x_train))\n",
    "rf_test_pred = np.expm1(model_rf.predict(x_test))\n",
    "print(\"RMSLE(train): \", rmsle(y_train, rf_train_pred))\n",
    "print(\"RMSLE(test): \", rmsle(y_test, rf_test_pred))"
   ]
  },
  {
   "cell_type": "code",
   "execution_count": null,
   "metadata": {
    "colab": {
     "base_uri": "https://localhost:8080/",
     "height": 345
    },
    "executionInfo": {
     "elapsed": 1041,
     "status": "ok",
     "timestamp": 1610549194432,
     "user": {
      "displayName": "Kwanyoung Lee",
      "photoUrl": "",
      "userId": "17965056898907400088"
     },
     "user_tz": -480
    },
    "id": "AqYpq_0V4n6t",
    "outputId": "7ee08b8c-7883-40e2-e18d-34bb937c175e"
   },
   "outputs": [],
   "source": [
    "plt.figure(figsize=(5,5))\n",
    "plt.scatter(y_test, rf_test_pred)\n",
    "plt.xlabel('Y Test')\n",
    "plt.ylabel('Predicted Y')\n",
    "plt.show()"
   ]
  },
  {
   "cell_type": "markdown",
   "metadata": {
    "id": "5Urtn5e4GcyY"
   },
   "source": [
    "**Linear Regression**"
   ]
  },
  {
   "cell_type": "code",
   "execution_count": null,
   "metadata": {
    "colab": {
     "base_uri": "https://localhost:8080/"
    },
    "executionInfo": {
     "elapsed": 1688,
     "status": "ok",
     "timestamp": 1610549161560,
     "user": {
      "displayName": "Kwanyoung Lee",
      "photoUrl": "",
      "userId": "17965056898907400088"
     },
     "user_tz": -480
    },
    "id": "I1-XlNi2mQym",
    "outputId": "26dcac53-0241-4fb8-e4e6-dc0b8e8e7c5f"
   },
   "outputs": [],
   "source": [
    "model_lr = LinearRegression()\n",
    "\n",
    "model_lr.fit(x_train, log_y_train)\n",
    "lr_train_pred = np.expm1(model_rf.predict(x_train))\n",
    "lr_test_pred = np.expm1(model_lr.predict(x_test))\n",
    "print(\"RMSLE(train): \", rmsle(y_train, lr_train_pred))\n",
    "print(\"RMSLE(test): \", rmsle(y_test, lr_test_pred))"
   ]
  },
  {
   "cell_type": "code",
   "execution_count": null,
   "metadata": {
    "colab": {
     "base_uri": "https://localhost:8080/",
     "height": 345
    },
    "executionInfo": {
     "elapsed": 1524,
     "status": "ok",
     "timestamp": 1610549199659,
     "user": {
      "displayName": "Kwanyoung Lee",
      "photoUrl": "",
      "userId": "17965056898907400088"
     },
     "user_tz": -480
    },
    "id": "giaGlsDXOiX6",
    "outputId": "809e2146-cc3d-42f4-b417-7e4a102d58d1"
   },
   "outputs": [],
   "source": [
    "plt.figure(figsize=(5,5))\n",
    "plt.scatter(y_test,lr_test_pred)\n",
    "plt.xlabel('Y Test')\n",
    "plt.ylabel('Predicted Y')\n",
    "plt.show()"
   ]
  },
  {
   "cell_type": "markdown",
   "metadata": {
    "id": "y9qZdXqoMDJc"
   },
   "source": [
    "**Lasso**"
   ]
  },
  {
   "cell_type": "code",
   "execution_count": null,
   "metadata": {
    "colab": {
     "base_uri": "https://localhost:8080/"
    },
    "executionInfo": {
     "elapsed": 828,
     "status": "ok",
     "timestamp": 1610549147633,
     "user": {
      "displayName": "Kwanyoung Lee",
      "photoUrl": "",
      "userId": "17965056898907400088"
     },
     "user_tz": -480
    },
    "id": "OSTFHEgiMIYE",
    "outputId": "c0688e52-1ab2-4012-fe62-e74ac4f27bef"
   },
   "outputs": [],
   "source": [
    "model_lasso =Lasso()\n",
    "model_lasso = Lasso(alpha=0.0005)\n",
    "model_lasso.fit(x_train,log_y_train)\n",
    "lasso_train_pred = np.expm1(model_lasso.predict(x_train))\n",
    "lasso_test_pred = np.expm1(model_lasso.predict(x_test))\n",
    "\n",
    "print(\"RMSLE(train): \", rmsle(y_train, lasso_train_pred))\n",
    "print(\"RMSLE(test): \", rmsle(y_test, lasso_test_pred))"
   ]
  },
  {
   "cell_type": "code",
   "execution_count": null,
   "metadata": {
    "colab": {
     "base_uri": "https://localhost:8080/",
     "height": 345
    },
    "executionInfo": {
     "elapsed": 1092,
     "status": "ok",
     "timestamp": 1610549214837,
     "user": {
      "displayName": "Kwanyoung Lee",
      "photoUrl": "",
      "userId": "17965056898907400088"
     },
     "user_tz": -480
    },
    "id": "pizbKJgCNKkX",
    "outputId": "f2db2b7b-834c-434b-e66e-3e44e1a7a754"
   },
   "outputs": [],
   "source": [
    "plt.figure(figsize=(5,5))\n",
    "plt.scatter(y_test,lasso_test_pred)\n",
    "plt.xlabel('Y Test')\n",
    "plt.ylabel('Predicted Y')\n",
    "plt.show()"
   ]
  },
  {
   "cell_type": "markdown",
   "metadata": {
    "id": "yHjktbRsGlLK"
   },
   "source": [
    "**ANN**"
   ]
  },
  {
   "cell_type": "code",
   "execution_count": null,
   "metadata": {
    "colab": {
     "base_uri": "https://localhost:8080/"
    },
    "executionInfo": {
     "elapsed": 963985,
     "status": "ok",
     "timestamp": 1610548699593,
     "user": {
      "displayName": "Kwanyoung Lee",
      "photoUrl": "",
      "userId": "17965056898907400088"
     },
     "user_tz": -480
    },
    "id": "6VieDISyAUfc",
    "outputId": "855408d9-4ea6-4f28-d6d3-c945cf8149c7"
   },
   "outputs": [],
   "source": [
    "from tensorflow.keras.models import Sequential\n",
    "from tensorflow.keras.layers import Input, Dense, Activation, Dropout\n",
    "from tensorflow.keras.optimizers import Adam\n",
    "\n",
    "model_ann = Sequential()\n",
    "\n",
    "model_ann.add(Dense(x_train.shape[1],activation='relu'))\n",
    "model_ann.add(Dense(32,activation='relu'))\n",
    "\n",
    "model_ann.add(Dense(64,activation='relu'))\n",
    "\n",
    "model_ann.add(Dense(128,activation='relu'))\n",
    "model_ann.add(Dropout(0.2))\n",
    "model_ann.add(Dense(1))\n",
    "\n",
    "model_ann.compile(optimizer=Adam(0.001), loss='mse')\n",
    "\n",
    "model_ann.fit(x_train, log_y_train, batch_size=128, epochs=500)\n",
    "\n",
    "ann_train_pred = np.expm1(model_ann.predict(x_train))\n",
    "ann_test_pred = np.expm1(model_ann.predict(x_test))\n",
    "print(\"RMSLE(train): \", rmsle(y_train, ann_train_pred))\n",
    "print(\"RMSLE(test): \", rmsle(y_test, ann_test_pred))"
   ]
  },
  {
   "cell_type": "code",
   "execution_count": null,
   "metadata": {
    "colab": {
     "base_uri": "https://localhost:8080/",
     "height": 345
    },
    "executionInfo": {
     "elapsed": 2853,
     "status": "ok",
     "timestamp": 1610549123767,
     "user": {
      "displayName": "Kwanyoung Lee",
      "photoUrl": "",
      "userId": "17965056898907400088"
     },
     "user_tz": -480
    },
    "id": "Uecf0WlHGKR-",
    "outputId": "e2d9a3c2-0277-45c5-df09-e308f0afd5d2"
   },
   "outputs": [],
   "source": [
    "plt.figure(figsize=(5,5))\n",
    "plt.scatter(y_test,ann_test_pred)\n",
    "plt.xlabel('Y Test')\n",
    "plt.ylabel('Predicted Y')\n",
    "plt.show()"
   ]
  }
 ],
 "metadata": {
  "colab": {
   "authorship_tag": "ABX9TyOmCE5LfOjytariXGUPOsh4",
   "collapsed_sections": [],
   "name": "House Price Prediction.ipynb",
   "provenance": []
  },
  "kernelspec": {
   "display_name": "Python 3",
   "language": "python",
   "name": "python3"
  },
  "language_info": {
   "codemirror_mode": {
    "name": "ipython",
    "version": 3
   },
   "file_extension": ".py",
   "mimetype": "text/x-python",
   "name": "python",
   "nbconvert_exporter": "python",
   "pygments_lexer": "ipython3",
   "version": "3.7.4"
  }
 },
 "nbformat": 4,
 "nbformat_minor": 1
}
